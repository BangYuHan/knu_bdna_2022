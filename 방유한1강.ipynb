{
  "nbformat": 4,
  "nbformat_minor": 0,
  "metadata": {
    "colab": {
      "name": "방유한1강.ipynb",
      "provenance": [],
      "authorship_tag": "ABX9TyNOVOu8t4F+v/o0H85j0jTr",
      "include_colab_link": true
    },
    "kernelspec": {
      "name": "python3",
      "display_name": "Python 3"
    },
    "language_info": {
      "name": "python"
    }
  },
  "cells": [
    {
      "cell_type": "markdown",
      "metadata": {
        "id": "view-in-github",
        "colab_type": "text"
      },
      "source": [
        "<a href=\"https://colab.research.google.com/github/BangYuHan/knu_bdna_2022/blob/main/%EB%B0%A9%EC%9C%A0%ED%95%9C1%EA%B0%95.ipynb\" target=\"_parent\"><img src=\"https://colab.research.google.com/assets/colab-badge.svg\" alt=\"Open In Colab\"/></a>"
      ]
    },
    {
      "cell_type": "code",
      "execution_count": 1,
      "metadata": {
        "id": "VYrQ9GgkLSZ-"
      },
      "outputs": [],
      "source": [
        "def greet():\n",
        "  print(\"hello world\")"
      ]
    },
    {
      "cell_type": "code",
      "source": [
        "greet()"
      ],
      "metadata": {
        "colab": {
          "base_uri": "https://localhost:8080/"
        },
        "id": "Gc70w6d6Lae5",
        "outputId": "671698e5-6878-41a7-cbad-9c9643a729d2"
      },
      "execution_count": 2,
      "outputs": [
        {
          "output_type": "stream",
          "name": "stdout",
          "text": [
            "hello world\n"
          ]
        }
      ]
    },
    {
      "cell_type": "code",
      "source": [
        "def add(a,b):\n",
        "    c=a+b\n",
        "    return c"
      ],
      "metadata": {
        "id": "Sg_bNtbaLd_4"
      },
      "execution_count": 34,
      "outputs": []
    },
    {
      "cell_type": "code",
      "source": [
        "def multiply(a,b):\n",
        "  c=a*b\n",
        "  return c"
      ],
      "metadata": {
        "id": "MEu5EAsgL0sq"
      },
      "execution_count": 4,
      "outputs": []
    },
    {
      "cell_type": "code",
      "source": [
        "add(5,10)"
      ],
      "metadata": {
        "colab": {
          "base_uri": "https://localhost:8080/"
        },
        "id": "oDb7BAa-L2RV",
        "outputId": "12775546-9428-4c03-a445-10d0a902de92"
      },
      "execution_count": 5,
      "outputs": [
        {
          "output_type": "execute_result",
          "data": {
            "text/plain": [
              "15"
            ]
          },
          "metadata": {},
          "execution_count": 5
        }
      ]
    },
    {
      "cell_type": "code",
      "source": [
        "multiply(5,10)"
      ],
      "metadata": {
        "colab": {
          "base_uri": "https://localhost:8080/"
        },
        "id": "uwyZyuuzL3mv",
        "outputId": "e03904f4-2750-415e-984f-5176ee43952a"
      },
      "execution_count": 6,
      "outputs": [
        {
          "output_type": "execute_result",
          "data": {
            "text/plain": [
              "50"
            ]
          },
          "metadata": {},
          "execution_count": 6
        }
      ]
    },
    {
      "cell_type": "code",
      "source": [
        "def greet2(name):\n",
        "  print('반갑습니다',name)\n",
        "  print(name,'은 파이썬의 세계로 오셨습니다')"
      ],
      "metadata": {
        "id": "0RS_Tnw2L4yx"
      },
      "execution_count": 7,
      "outputs": []
    },
    {
      "cell_type": "code",
      "source": [
        "inputName='방유한님'"
      ],
      "metadata": {
        "id": "HpQetgDbO1H2"
      },
      "execution_count": 35,
      "outputs": []
    },
    {
      "cell_type": "code",
      "source": [
        "greet2('방유한님')"
      ],
      "metadata": {
        "colab": {
          "base_uri": "https://localhost:8080/"
        },
        "id": "CuqkGhZxL68a",
        "outputId": "e7ebf4a8-e6db-4c5c-dd43-5480c930093d"
      },
      "execution_count": 36,
      "outputs": [
        {
          "output_type": "stream",
          "name": "stdout",
          "text": [
            "반갑습니다 방유한님\n",
            "방유한님 은 파이썬의 세계로 오셨습니다\n"
          ]
        }
      ]
    },
    {
      "cell_type": "code",
      "source": [
        "def adder(num1,num2):\n",
        "  sum=num1+num2\n",
        "  print('덧셈 결과:',num1+num2)"
      ],
      "metadata": {
        "id": "-obIMNyfMBiX"
      },
      "execution_count": 11,
      "outputs": []
    },
    {
      "cell_type": "code",
      "source": [
        "adder(7,8)"
      ],
      "metadata": {
        "colab": {
          "base_uri": "https://localhost:8080/"
        },
        "id": "OjnmVZlhMDcK",
        "outputId": "49ffd785-aba2-4400-ed68-a97b4b3506e5"
      },
      "execution_count": 12,
      "outputs": [
        {
          "output_type": "stream",
          "name": "stdout",
          "text": [
            "덧셈 결과: 15\n"
          ]
        }
      ]
    },
    {
      "cell_type": "code",
      "source": [
        "def adder(num1,num2):\n",
        "  sum=num1+num2\n",
        "  return sum"
      ],
      "metadata": {
        "id": "grNiArB4MEv1"
      },
      "execution_count": 13,
      "outputs": []
    },
    {
      "cell_type": "code",
      "source": [
        "result=adder(7,8)"
      ],
      "metadata": {
        "id": "OSeoMvmfMFs6"
      },
      "execution_count": 14,
      "outputs": []
    },
    {
      "cell_type": "code",
      "source": [
        "print(result)"
      ],
      "metadata": {
        "colab": {
          "base_uri": "https://localhost:8080/"
        },
        "id": "2PHjC2GOMGw_",
        "outputId": "44b88f82-4fdf-4e9a-9794-9d31e6acc651"
      },
      "execution_count": 15,
      "outputs": [
        {
          "output_type": "stream",
          "name": "stdout",
          "text": [
            "15\n"
          ]
        }
      ]
    },
    {
      "cell_type": "code",
      "source": [
        "def adder(num1,num2):\n",
        "  sum=num1+num2\n",
        "  return sum"
      ],
      "metadata": {
        "id": "ILQk8zIrMHyZ"
      },
      "execution_count": 16,
      "outputs": []
    },
    {
      "cell_type": "code",
      "source": [
        "def main():\n",
        "    print(adder(5,10))"
      ],
      "metadata": {
        "id": "V2uhonNzMKAM"
      },
      "execution_count": 17,
      "outputs": []
    },
    {
      "cell_type": "code",
      "source": [
        "main()"
      ],
      "metadata": {
        "colab": {
          "base_uri": "https://localhost:8080/"
        },
        "id": "2SnOrC6mMK4T",
        "outputId": "e258a0e3-0877-45c3-b79d-133fa68aa016"
      },
      "execution_count": 18,
      "outputs": [
        {
          "output_type": "stream",
          "name": "stdout",
          "text": [
            "15\n"
          ]
        }
      ]
    },
    {
      "cell_type": "code",
      "source": [
        "max(5,7,10)#"
      ],
      "metadata": {
        "colab": {
          "base_uri": "https://localhost:8080/"
        },
        "id": "uUNTiEzzMPAW",
        "outputId": "fff3cda3-56dd-4dec-8790-b4b35038c558"
      },
      "execution_count": 19,
      "outputs": [
        {
          "output_type": "execute_result",
          "data": {
            "text/plain": [
              "10"
            ]
          },
          "metadata": {},
          "execution_count": 19
        }
      ]
    },
    {
      "cell_type": "code",
      "source": [
        "min(3,6,2)#"
      ],
      "metadata": {
        "colab": {
          "base_uri": "https://localhost:8080/"
        },
        "id": "O4azIKnrMR-u",
        "outputId": "6a90d42a-6ef0-4bc6-b32d-21e2018f273f"
      },
      "execution_count": 20,
      "outputs": [
        {
          "output_type": "execute_result",
          "data": {
            "text/plain": [
              "2"
            ]
          },
          "metadata": {},
          "execution_count": 20
        }
      ]
    },
    {
      "cell_type": "code",
      "source": [
        "round(177.6)#"
      ],
      "metadata": {
        "colab": {
          "base_uri": "https://localhost:8080/"
        },
        "id": "hZ5dpx8fMS6Z",
        "outputId": "95f49cb3-eebd-4b56-d373-04efae98c661"
      },
      "execution_count": 21,
      "outputs": [
        {
          "output_type": "execute_result",
          "data": {
            "text/plain": [
              "178"
            ]
          },
          "metadata": {},
          "execution_count": 21
        }
      ]
    },
    {
      "cell_type": "code",
      "source": [
        "round(177.6)#"
      ],
      "metadata": {
        "colab": {
          "base_uri": "https://localhost:8080/"
        },
        "id": "ShKB1BnlMT8-",
        "outputId": "86d324c3-8a5f-48ef-88ba-19e7464d91bd"
      },
      "execution_count": 22,
      "outputs": [
        {
          "output_type": "execute_result",
          "data": {
            "text/plain": [
              "178"
            ]
          },
          "metadata": {},
          "execution_count": 22
        }
      ]
    },
    {
      "cell_type": "code",
      "source": [
        "abs(-5)#"
      ],
      "metadata": {
        "colab": {
          "base_uri": "https://localhost:8080/"
        },
        "id": "RxjZnIIrMX59",
        "outputId": "106d8663-5de7-436b-c112-cd2d9363747a"
      },
      "execution_count": 23,
      "outputs": [
        {
          "output_type": "execute_result",
          "data": {
            "text/plain": [
              "5"
            ]
          },
          "metadata": {},
          "execution_count": 23
        }
      ]
    },
    {
      "cell_type": "code",
      "source": [
        "pow(5,5)#"
      ],
      "metadata": {
        "colab": {
          "base_uri": "https://localhost:8080/"
        },
        "id": "xkQe4wIhMYj9",
        "outputId": "981ba9a8-d0fe-41d7-84ab-9d8be92ad865"
      },
      "execution_count": 24,
      "outputs": [
        {
          "output_type": "execute_result",
          "data": {
            "text/plain": [
              "3125"
            ]
          },
          "metadata": {},
          "execution_count": 24
        }
      ]
    },
    {
      "cell_type": "code",
      "source": [
        "round(177.62416,2)"
      ],
      "metadata": {
        "colab": {
          "base_uri": "https://localhost:8080/"
        },
        "id": "jH1h4SO9MZR-",
        "outputId": "11e74eb5-e434-4c34-bd80-1231a3b0b003"
      },
      "execution_count": 25,
      "outputs": [
        {
          "output_type": "execute_result",
          "data": {
            "text/plain": [
              "177.62"
            ]
          },
          "metadata": {},
          "execution_count": 25
        }
      ]
    },
    {
      "cell_type": "code",
      "source": [
        "10%3"
      ],
      "metadata": {
        "colab": {
          "base_uri": "https://localhost:8080/"
        },
        "id": "kD1oXx5jMaBq",
        "outputId": "6aabb30b-ead2-4a79-f1ec-54ed95ef13ad"
      },
      "execution_count": 26,
      "outputs": [
        {
          "output_type": "execute_result",
          "data": {
            "text/plain": [
              "1"
            ]
          },
          "metadata": {},
          "execution_count": 26
        }
      ]
    },
    {
      "cell_type": "code",
      "source": [
        "result=eval(input(\"뭐든 넣어요:\"))"
      ],
      "metadata": {
        "colab": {
          "base_uri": "https://localhost:8080/"
        },
        "id": "NGmrggQvMbCG",
        "outputId": "5ee270e2-f844-49db-e519-af4c8cd12889"
      },
      "execution_count": 27,
      "outputs": [
        {
          "name": "stdout",
          "output_type": "stream",
          "text": [
            "뭐든 넣어요:15-27*3+22\n"
          ]
        }
      ]
    },
    {
      "cell_type": "code",
      "source": [
        "result"
      ],
      "metadata": {
        "colab": {
          "base_uri": "https://localhost:8080/"
        },
        "id": "AtRa63CiMb-O",
        "outputId": "ccd5f136-d132-4381-c79f-7bb9dd679246"
      },
      "execution_count": 28,
      "outputs": [
        {
          "output_type": "execute_result",
          "data": {
            "text/plain": [
              "-44"
            ]
          },
          "metadata": {},
          "execution_count": 28
        }
      ]
    },
    {
      "cell_type": "code",
      "source": [
        "def ret():\n",
        "  return 27"
      ],
      "metadata": {
        "id": "5IW1VSUcMgyp"
      },
      "execution_count": 29,
      "outputs": []
    },
    {
      "cell_type": "code",
      "source": [
        "result= eval(input(\"뭐든 넣어요:\"))"
      ],
      "metadata": {
        "colab": {
          "base_uri": "https://localhost:8080/"
        },
        "id": "IkAjiRl4Mi72",
        "outputId": "86c951aa-e532-4689-943b-1b5773d82b56"
      },
      "execution_count": 31,
      "outputs": [
        {
          "name": "stdout",
          "output_type": "stream",
          "text": [
            "뭐든 넣어요:ret()\n"
          ]
        }
      ]
    },
    {
      "cell_type": "code",
      "source": [
        "print(result)"
      ],
      "metadata": {
        "colab": {
          "base_uri": "https://localhost:8080/"
        },
        "id": "2X0sDvLTMs8n",
        "outputId": "d5108678-c677-4870-986e-862d2f66a86b"
      },
      "execution_count": 32,
      "outputs": [
        {
          "output_type": "stream",
          "name": "stdout",
          "text": [
            "27\n"
          ]
        }
      ]
    },
    {
      "cell_type": "code",
      "source": [
        "★3주차강의★"
      ],
      "metadata": {
        "id": "papzJhaeMvny"
      },
      "execution_count": null,
      "outputs": []
    },
    {
      "cell_type": "code",
      "source": [
        " def greet_three_times():\n",
        "  print('HI')\n",
        "  print('HI')\n",
        "  print('HI')"
      ],
      "metadata": {
        "id": "nxcGXE0rRB_9"
      },
      "execution_count": 38,
      "outputs": []
    },
    {
      "cell_type": "code",
      "source": [
        "greet_three_times()"
      ],
      "metadata": {
        "colab": {
          "base_uri": "https://localhost:8080/"
        },
        "id": "x5VmbRpGRq1H",
        "outputId": "67165656-ddf7-44a7-e562-62165151b336"
      },
      "execution_count": 39,
      "outputs": [
        {
          "output_type": "stream",
          "name": "stdout",
          "text": [
            "HI\n",
            "HI\n",
            "HI\n"
          ]
        }
      ]
    },
    {
      "cell_type": "code",
      "source": [
        "def greet_10(num):\n",
        "  if (num>0):\n",
        "    print('HI')\n",
        "    num=num-1\n",
        "    greet_10(num)"
      ],
      "metadata": {
        "id": "x6ihl1ACRtza"
      },
      "execution_count": 40,
      "outputs": []
    },
    {
      "cell_type": "code",
      "source": [
        "greet_10(3)"
      ],
      "metadata": {
        "colab": {
          "base_uri": "https://localhost:8080/"
        },
        "id": "Ku0bPQy4R9Pp",
        "outputId": "9514bced-4a2d-49f4-87fb-ebc3c414ce05"
      },
      "execution_count": 41,
      "outputs": [
        {
          "output_type": "stream",
          "name": "stdout",
          "text": [
            "HI\n",
            "HI\n",
            "HI\n"
          ]
        }
      ]
    },
    {
      "cell_type": "code",
      "source": [
        "greet_10(5)"
      ],
      "metadata": {
        "colab": {
          "base_uri": "https://localhost:8080/"
        },
        "id": "lnFAVUeHSBgv",
        "outputId": "8bab3f66-2c87-4a16-f706-12db297bf87d"
      },
      "execution_count": 42,
      "outputs": [
        {
          "output_type": "stream",
          "name": "stdout",
          "text": [
            "HI\n",
            "HI\n",
            "HI\n",
            "HI\n",
            "HI\n"
          ]
        }
      ]
    },
    {
      "cell_type": "code",
      "source": [
        "greet_10(1)"
      ],
      "metadata": {
        "colab": {
          "base_uri": "https://localhost:8080/"
        },
        "id": "YCXh7ZuZSJJP",
        "outputId": "c9d020e6-7aac-4a6c-d8a0-a09980547644"
      },
      "execution_count": 45,
      "outputs": [
        {
          "output_type": "stream",
          "name": "stdout",
          "text": [
            "HI\n"
          ]
        }
      ]
    },
    {
      "cell_type": "code",
      "source": [
        "sum=0\n",
        "for i in range(1,11):\n",
        "  sum=sum+i"
      ],
      "metadata": {
        "id": "1VeyFk_vSKqr"
      },
      "execution_count": 46,
      "outputs": []
    },
    {
      "cell_type": "code",
      "source": [
        "import random\n",
        "NUMBER_OF_TRIALS=5000000\n",
        "numberOfHits=0"
      ],
      "metadata": {
        "id": "GyWPd0L0SSbF"
      },
      "execution_count": 47,
      "outputs": []
    },
    {
      "cell_type": "code",
      "source": [
        "for i in range(NUMBER_OF_TRIALS):\n",
        "  x=random.random()*2-1\n",
        "  y=random.random()*2-1\n",
        "  if x*x+y*y<=1:\n",
        "    numberOfHits+=1"
      ],
      "metadata": {
        "id": "q76vBDjcST6m"
      },
      "execution_count": 48,
      "outputs": []
    },
    {
      "cell_type": "code",
      "source": [
        "pi=4*numberOfHits/NUMBER_OF_TRIALS"
      ],
      "metadata": {
        "id": "AHvl-S5VSVRC"
      },
      "execution_count": 49,
      "outputs": []
    },
    {
      "cell_type": "code",
      "source": [
        "print(\"PI는\",pi,\"입니다\")"
      ],
      "metadata": {
        "colab": {
          "base_uri": "https://localhost:8080/"
        },
        "id": "27IAXKtjSWyE",
        "outputId": "572c7cb1-1119-42cf-b7b5-1b4fcec3cf0d"
      },
      "execution_count": 50,
      "outputs": [
        {
          "output_type": "stream",
          "name": "stdout",
          "text": [
            "PI는 3.1426024 입니다\n"
          ]
        }
      ]
    },
    {
      "cell_type": "code",
      "source": [
        "count=0\n",
        "while count<100:\n",
        "  print(\"프로그래밍은 어렵습니다 !\")\n",
        "  count=count+1"
      ],
      "metadata": {
        "colab": {
          "base_uri": "https://localhost:8080/"
        },
        "id": "NOWZbLGCSX4z",
        "outputId": "b9c87664-64b6-4ca3-f529-5146cf639204"
      },
      "execution_count": 51,
      "outputs": [
        {
          "output_type": "stream",
          "name": "stdout",
          "text": [
            "프로그래밍은 어렵습니다 !\n",
            "프로그래밍은 어렵습니다 !\n",
            "프로그래밍은 어렵습니다 !\n",
            "프로그래밍은 어렵습니다 !\n",
            "프로그래밍은 어렵습니다 !\n",
            "프로그래밍은 어렵습니다 !\n",
            "프로그래밍은 어렵습니다 !\n",
            "프로그래밍은 어렵습니다 !\n",
            "프로그래밍은 어렵습니다 !\n",
            "프로그래밍은 어렵습니다 !\n",
            "프로그래밍은 어렵습니다 !\n",
            "프로그래밍은 어렵습니다 !\n",
            "프로그래밍은 어렵습니다 !\n",
            "프로그래밍은 어렵습니다 !\n",
            "프로그래밍은 어렵습니다 !\n",
            "프로그래밍은 어렵습니다 !\n",
            "프로그래밍은 어렵습니다 !\n",
            "프로그래밍은 어렵습니다 !\n",
            "프로그래밍은 어렵습니다 !\n",
            "프로그래밍은 어렵습니다 !\n",
            "프로그래밍은 어렵습니다 !\n",
            "프로그래밍은 어렵습니다 !\n",
            "프로그래밍은 어렵습니다 !\n",
            "프로그래밍은 어렵습니다 !\n",
            "프로그래밍은 어렵습니다 !\n",
            "프로그래밍은 어렵습니다 !\n",
            "프로그래밍은 어렵습니다 !\n",
            "프로그래밍은 어렵습니다 !\n",
            "프로그래밍은 어렵습니다 !\n",
            "프로그래밍은 어렵습니다 !\n",
            "프로그래밍은 어렵습니다 !\n",
            "프로그래밍은 어렵습니다 !\n",
            "프로그래밍은 어렵습니다 !\n",
            "프로그래밍은 어렵습니다 !\n",
            "프로그래밍은 어렵습니다 !\n",
            "프로그래밍은 어렵습니다 !\n",
            "프로그래밍은 어렵습니다 !\n",
            "프로그래밍은 어렵습니다 !\n",
            "프로그래밍은 어렵습니다 !\n",
            "프로그래밍은 어렵습니다 !\n",
            "프로그래밍은 어렵습니다 !\n",
            "프로그래밍은 어렵습니다 !\n",
            "프로그래밍은 어렵습니다 !\n",
            "프로그래밍은 어렵습니다 !\n",
            "프로그래밍은 어렵습니다 !\n",
            "프로그래밍은 어렵습니다 !\n",
            "프로그래밍은 어렵습니다 !\n",
            "프로그래밍은 어렵습니다 !\n",
            "프로그래밍은 어렵습니다 !\n",
            "프로그래밍은 어렵습니다 !\n",
            "프로그래밍은 어렵습니다 !\n",
            "프로그래밍은 어렵습니다 !\n",
            "프로그래밍은 어렵습니다 !\n",
            "프로그래밍은 어렵습니다 !\n",
            "프로그래밍은 어렵습니다 !\n",
            "프로그래밍은 어렵습니다 !\n",
            "프로그래밍은 어렵습니다 !\n",
            "프로그래밍은 어렵습니다 !\n",
            "프로그래밍은 어렵습니다 !\n",
            "프로그래밍은 어렵습니다 !\n",
            "프로그래밍은 어렵습니다 !\n",
            "프로그래밍은 어렵습니다 !\n",
            "프로그래밍은 어렵습니다 !\n",
            "프로그래밍은 어렵습니다 !\n",
            "프로그래밍은 어렵습니다 !\n",
            "프로그래밍은 어렵습니다 !\n",
            "프로그래밍은 어렵습니다 !\n",
            "프로그래밍은 어렵습니다 !\n",
            "프로그래밍은 어렵습니다 !\n",
            "프로그래밍은 어렵습니다 !\n",
            "프로그래밍은 어렵습니다 !\n",
            "프로그래밍은 어렵습니다 !\n",
            "프로그래밍은 어렵습니다 !\n",
            "프로그래밍은 어렵습니다 !\n",
            "프로그래밍은 어렵습니다 !\n",
            "프로그래밍은 어렵습니다 !\n",
            "프로그래밍은 어렵습니다 !\n",
            "프로그래밍은 어렵습니다 !\n",
            "프로그래밍은 어렵습니다 !\n",
            "프로그래밍은 어렵습니다 !\n",
            "프로그래밍은 어렵습니다 !\n",
            "프로그래밍은 어렵습니다 !\n",
            "프로그래밍은 어렵습니다 !\n",
            "프로그래밍은 어렵습니다 !\n",
            "프로그래밍은 어렵습니다 !\n",
            "프로그래밍은 어렵습니다 !\n",
            "프로그래밍은 어렵습니다 !\n",
            "프로그래밍은 어렵습니다 !\n",
            "프로그래밍은 어렵습니다 !\n",
            "프로그래밍은 어렵습니다 !\n",
            "프로그래밍은 어렵습니다 !\n",
            "프로그래밍은 어렵습니다 !\n",
            "프로그래밍은 어렵습니다 !\n",
            "프로그래밍은 어렵습니다 !\n",
            "프로그래밍은 어렵습니다 !\n",
            "프로그래밍은 어렵습니다 !\n",
            "프로그래밍은 어렵습니다 !\n",
            "프로그래밍은 어렵습니다 !\n",
            "프로그래밍은 어렵습니다 !\n",
            "프로그래밍은 어렵습니다 !\n"
          ]
        }
      ]
    },
    {
      "cell_type": "code",
      "source": [
        "count=0\n",
        "while count<5:\n",
        "  print(\"프로그래밍은 어렵습니다 !\")\n",
        "  count=count+1"
      ],
      "metadata": {
        "colab": {
          "base_uri": "https://localhost:8080/"
        },
        "id": "LmpMj1ZIXJuf",
        "outputId": "6ef769f2-430a-4fe6-a624-98ff87880f6e"
      },
      "execution_count": 55,
      "outputs": [
        {
          "output_type": "stream",
          "name": "stdout",
          "text": [
            "프로그래밍은 어렵습니다 !\n",
            "프로그래밍은 어렵습니다 !\n",
            "프로그래밍은 어렵습니다 !\n",
            "프로그래밍은 어렵습니다 !\n",
            "프로그래밍은 어렵습니다 !\n"
          ]
        }
      ]
    },
    {
      "cell_type": "code",
      "source": [
        "import random\n",
        "NUMBER_OF_TRIALS=5000000\n",
        "numberOfHits=0\n",
        "i=0\n",
        "while (i<NUMBER_OF_TRIALS):\n",
        "  x=random.random()*2-1\n",
        "  y=random.random()*2-1\n",
        "  if x*x+y*y<=1:\n",
        "    numberOfHits+=1\n",
        "  i=i+1"
      ],
      "metadata": {
        "id": "tatzkXzFUWqQ"
      },
      "execution_count": 52,
      "outputs": []
    },
    {
      "cell_type": "code",
      "source": [
        "pi=4*numberOfHits/NUMBER_OF_TRIALS"
      ],
      "metadata": {
        "id": "7U-WD5VGW3_x"
      },
      "execution_count": 53,
      "outputs": []
    },
    {
      "cell_type": "code",
      "source": [
        "print(\"PI는\",pi,\"입니다.\")"
      ],
      "metadata": {
        "colab": {
          "base_uri": "https://localhost:8080/"
        },
        "id": "gNySkY8PW5vU",
        "outputId": "5ca9e253-863e-4adb-b86a-734b93af03f9"
      },
      "execution_count": 54,
      "outputs": [
        {
          "output_type": "stream",
          "name": "stdout",
          "text": [
            "PI는 3.1402256 입니다.\n"
          ]
        }
      ]
    },
    {
      "cell_type": "code",
      "source": [
        "x=5"
      ],
      "metadata": {
        "id": "dAMMvPQtW6vi"
      },
      "execution_count": 56,
      "outputs": []
    },
    {
      "cell_type": "code",
      "source": [
        "y=7"
      ],
      "metadata": {
        "id": "bLypCNXFX-8C"
      },
      "execution_count": 57,
      "outputs": []
    },
    {
      "cell_type": "code",
      "source": [
        "x<y"
      ],
      "metadata": {
        "colab": {
          "base_uri": "https://localhost:8080/"
        },
        "id": "lIp1ynsEX_pu",
        "outputId": "843905dd-e732-401f-9aca-8d7b33748f0f"
      },
      "execution_count": 58,
      "outputs": [
        {
          "output_type": "execute_result",
          "data": {
            "text/plain": [
              "True"
            ]
          },
          "metadata": {},
          "execution_count": 58
        }
      ]
    },
    {
      "cell_type": "code",
      "source": [
        "x=15\n",
        "y=13\n",
        "bool(x>y)"
      ],
      "metadata": {
        "colab": {
          "base_uri": "https://localhost:8080/"
        },
        "id": "nmxw-u5UYA5m",
        "outputId": "38cf4b52-89cc-4ec2-83af-80ac150c50bf"
      },
      "execution_count": 59,
      "outputs": [
        {
          "output_type": "execute_result",
          "data": {
            "text/plain": [
              "True"
            ]
          },
          "metadata": {},
          "execution_count": 59
        }
      ]
    },
    {
      "cell_type": "code",
      "source": [
        "x=5\n",
        "y=7"
      ],
      "metadata": {
        "id": "Gf4uS6T9YDbT"
      },
      "execution_count": 60,
      "outputs": []
    },
    {
      "cell_type": "code",
      "source": [
        "bool(x!=y)"
      ],
      "metadata": {
        "colab": {
          "base_uri": "https://localhost:8080/"
        },
        "id": "KPpjiEL2YGIR",
        "outputId": "1720aaad-867d-4598-d77e-72c4d5871698"
      },
      "execution_count": 61,
      "outputs": [
        {
          "output_type": "execute_result",
          "data": {
            "text/plain": [
              "True"
            ]
          },
          "metadata": {},
          "execution_count": 61
        }
      ]
    },
    {
      "cell_type": "code",
      "source": [
        "bool(x==y)"
      ],
      "metadata": {
        "colab": {
          "base_uri": "https://localhost:8080/"
        },
        "id": "jNmyY2lJYHbf",
        "outputId": "4ec42eb6-8c71-43e9-e359-8795f6ee6ed3"
      },
      "execution_count": 62,
      "outputs": [
        {
          "output_type": "execute_result",
          "data": {
            "text/plain": [
              "False"
            ]
          },
          "metadata": {},
          "execution_count": 62
        }
      ]
    },
    {
      "cell_type": "code",
      "source": [
        "bool(x<=y)"
      ],
      "metadata": {
        "colab": {
          "base_uri": "https://localhost:8080/"
        },
        "id": "R9rkUQeHYS5W",
        "outputId": "a17761bb-c771-40a7-d3fe-56b780b1164c"
      },
      "execution_count": 63,
      "outputs": [
        {
          "output_type": "execute_result",
          "data": {
            "text/plain": [
              "True"
            ]
          },
          "metadata": {},
          "execution_count": 63
        }
      ]
    },
    {
      "cell_type": "code",
      "source": [
        "money=2000\n",
        "if money>=3300:\n",
        "  print(\"택시 타고 가세요.\")\n",
        "else:\n",
        "    print(\"걸어가세요.\")"
      ],
      "metadata": {
        "colab": {
          "base_uri": "https://localhost:8080/"
        },
        "id": "Tf0NSkM8YTod",
        "outputId": "fa4df24e-b7de-4577-c99e-974afb7f3dba"
      },
      "execution_count": 64,
      "outputs": [
        {
          "output_type": "stream",
          "name": "stdout",
          "text": [
            "걸어가세요.\n"
          ]
        }
      ]
    },
    {
      "cell_type": "code",
      "source": [
        "money=2000\n",
        "card=True\n",
        "if money>=3300 or card:\n",
        "  print(\"택시 타고 가세요.\")\n",
        "else:\n",
        "    print(\"걸어가세요.\")"
      ],
      "metadata": {
        "colab": {
          "base_uri": "https://localhost:8080/"
        },
        "id": "o1oy0AkjYWIJ",
        "outputId": "f4d0268f-f0aa-4a87-a5a3-aa81e1025e50"
      },
      "execution_count": 66,
      "outputs": [
        {
          "output_type": "stream",
          "name": "stdout",
          "text": [
            "택시 타고 가세요.\n"
          ]
        }
      ]
    },
    {
      "cell_type": "code",
      "source": [
        "bool(True or True)"
      ],
      "metadata": {
        "colab": {
          "base_uri": "https://localhost:8080/"
        },
        "id": "k1MpKw5YYbAw",
        "outputId": "08ed2451-3c2e-4ecb-b37b-7953edffa140"
      },
      "execution_count": 67,
      "outputs": [
        {
          "output_type": "execute_result",
          "data": {
            "text/plain": [
              "True"
            ]
          },
          "metadata": {},
          "execution_count": 67
        }
      ]
    },
    {
      "cell_type": "code",
      "source": [
        "bool(True or False)"
      ],
      "metadata": {
        "colab": {
          "base_uri": "https://localhost:8080/"
        },
        "id": "VgIlMi3SYkV5",
        "outputId": "46894583-44ce-4f61-f7c6-9c77e4c97a6f"
      },
      "execution_count": 68,
      "outputs": [
        {
          "output_type": "execute_result",
          "data": {
            "text/plain": [
              "True"
            ]
          },
          "metadata": {},
          "execution_count": 68
        }
      ]
    },
    {
      "cell_type": "code",
      "source": [
        "bool(False or False)"
      ],
      "metadata": {
        "colab": {
          "base_uri": "https://localhost:8080/"
        },
        "id": "HR6yS9p1YlEZ",
        "outputId": "ca612924-e249-4b88-dbef-4db4af1505cf"
      },
      "execution_count": 69,
      "outputs": [
        {
          "output_type": "execute_result",
          "data": {
            "text/plain": [
              "False"
            ]
          },
          "metadata": {},
          "execution_count": 69
        }
      ]
    },
    {
      "cell_type": "code",
      "source": [
        "bool(not True)"
      ],
      "metadata": {
        "colab": {
          "base_uri": "https://localhost:8080/"
        },
        "id": "M5w6eH3WYl0t",
        "outputId": "b3903d51-6d0a-4c5d-b1e4-ea33e2c59451"
      },
      "execution_count": 70,
      "outputs": [
        {
          "output_type": "execute_result",
          "data": {
            "text/plain": [
              "False"
            ]
          },
          "metadata": {},
          "execution_count": 70
        }
      ]
    },
    {
      "cell_type": "code",
      "source": [
        "bool(not False)"
      ],
      "metadata": {
        "colab": {
          "base_uri": "https://localhost:8080/"
        },
        "id": "y_n10TEjYm3q",
        "outputId": "8a919f45-3500-413e-eba9-fe4643b827af"
      },
      "execution_count": 71,
      "outputs": [
        {
          "output_type": "execute_result",
          "data": {
            "text/plain": [
              "True"
            ]
          },
          "metadata": {},
          "execution_count": 71
        }
      ]
    },
    {
      "cell_type": "code",
      "source": [
        "bool(not(True or False))"
      ],
      "metadata": {
        "colab": {
          "base_uri": "https://localhost:8080/"
        },
        "id": "FTdNeyxYYn0T",
        "outputId": "76136909-d398-41bb-bdc6-77fe5a86f8d2"
      },
      "execution_count": 72,
      "outputs": [
        {
          "output_type": "execute_result",
          "data": {
            "text/plain": [
              "False"
            ]
          },
          "metadata": {},
          "execution_count": 72
        }
      ]
    },
    {
      "cell_type": "code",
      "source": [
        "bool((not True)or False)"
      ],
      "metadata": {
        "colab": {
          "base_uri": "https://localhost:8080/"
        },
        "id": "NNTfRmmdYopU",
        "outputId": "d694e03c-be79-426f-fb08-7a43afcb4595"
      },
      "execution_count": 73,
      "outputs": [
        {
          "output_type": "execute_result",
          "data": {
            "text/plain": [
              "False"
            ]
          },
          "metadata": {},
          "execution_count": 73
        }
      ]
    },
    {
      "cell_type": "code",
      "source": [
        "bool((not False)or False)"
      ],
      "metadata": {
        "colab": {
          "base_uri": "https://localhost:8080/"
        },
        "id": "16jRBr5eYpmp",
        "outputId": "5a2267d3-54fb-49f8-ab0b-6d431485e552"
      },
      "execution_count": 74,
      "outputs": [
        {
          "output_type": "execute_result",
          "data": {
            "text/plain": [
              "True"
            ]
          },
          "metadata": {},
          "execution_count": 74
        }
      ]
    },
    {
      "cell_type": "code",
      "source": [
        "1 in(1,2,3)"
      ],
      "metadata": {
        "colab": {
          "base_uri": "https://localhost:8080/"
        },
        "id": "b-uuVEoCYqc_",
        "outputId": "4d2027a1-0272-468a-faad-14a41a70d0f1"
      },
      "execution_count": 75,
      "outputs": [
        {
          "output_type": "execute_result",
          "data": {
            "text/plain": [
              "True"
            ]
          },
          "metadata": {},
          "execution_count": 75
        }
      ]
    },
    {
      "cell_type": "code",
      "source": [
        "5 in(1,2,3)"
      ],
      "metadata": {
        "colab": {
          "base_uri": "https://localhost:8080/"
        },
        "id": "s0ZQD_2OYrZO",
        "outputId": "bba371d7-b05c-4150-81d4-66e1ec5dabfe"
      },
      "execution_count": 76,
      "outputs": [
        {
          "output_type": "execute_result",
          "data": {
            "text/plain": [
              "False"
            ]
          },
          "metadata": {},
          "execution_count": 76
        }
      ]
    },
    {
      "cell_type": "code",
      "source": [
        "5 not in(1,2,3)"
      ],
      "metadata": {
        "colab": {
          "base_uri": "https://localhost:8080/"
        },
        "id": "SuqAMKIkYsFn",
        "outputId": "55a01df3-af0b-4e21-98e4-310e927725ef"
      },
      "execution_count": 77,
      "outputs": [
        {
          "output_type": "execute_result",
          "data": {
            "text/plain": [
              "True"
            ]
          },
          "metadata": {},
          "execution_count": 77
        }
      ]
    },
    {
      "cell_type": "code",
      "source": [
        "1 not in(1,2,3)"
      ],
      "metadata": {
        "colab": {
          "base_uri": "https://localhost:8080/"
        },
        "id": "MIZzD_XFYs88",
        "outputId": "32a5340b-f3a7-489d-8289-93b81b1d7e8c"
      },
      "execution_count": 78,
      "outputs": [
        {
          "output_type": "execute_result",
          "data": {
            "text/plain": [
              "False"
            ]
          },
          "metadata": {},
          "execution_count": 78
        }
      ]
    },
    {
      "cell_type": "code",
      "source": [
        "pocket=('paper','cellphone','money')\n",
        "if'money'in pocket:\n",
        "  print(\"택시를 타고 가세요.\")\n",
        "else:\n",
        "  print(\"걸어가세요.\")"
      ],
      "metadata": {
        "colab": {
          "base_uri": "https://localhost:8080/"
        },
        "id": "6SNlnlVEYt4H",
        "outputId": "f5ca631b-fbe5-4d53-a1d5-ef76bf01b39b"
      },
      "execution_count": 79,
      "outputs": [
        {
          "output_type": "stream",
          "name": "stdout",
          "text": [
            "택시를 타고 가세요.\n"
          ]
        }
      ]
    },
    {
      "cell_type": "code",
      "source": [
        "pocket=('paper','cellphone','money')\n",
        "if 'money'in pocket:\n",
        "  pass\n",
        "else:\n",
        "  print(\"카드를 꺼내세요.\")"
      ],
      "metadata": {
        "id": "RsHVMnaYY5Nl"
      },
      "execution_count": 81,
      "outputs": []
    },
    {
      "cell_type": "code",
      "source": [
        "if(3>2):\n",
        "  pass\n",
        "else:\n",
        "  print(\"hello\")"
      ],
      "metadata": {
        "id": "1U0nF53vY8w4"
      },
      "execution_count": 82,
      "outputs": []
    },
    {
      "cell_type": "code",
      "source": [
        "pocket=('paper','handphone')\n",
        "card=True\n",
        "if'money' in pocket:\n",
        "  print(\"택시 타고 가세요.\")\n",
        "else:\n",
        "    if card:\n",
        "      print(\"택시 타고 가세요\")\n",
        "    else:\n",
        "        print(\"걸어가세요.\")"
      ],
      "metadata": {
        "colab": {
          "base_uri": "https://localhost:8080/"
        },
        "id": "lLzcGYZuZJ4c",
        "outputId": "6f6b25cc-5788-4180-802d-5e2a916b6489"
      },
      "execution_count": 83,
      "outputs": [
        {
          "output_type": "stream",
          "name": "stdout",
          "text": [
            "택시 타고 가세요\n"
          ]
        }
      ]
    },
    {
      "cell_type": "code",
      "source": [
        "if 'money'in pocket:\n",
        "  print(\"택시 타고 가세요.\")\n",
        "elif card:\n",
        "    print(\"택시 타고 가세요.\")\n",
        "else:\n",
        "  print(\"걸어가세요.\")"
      ],
      "metadata": {
        "colab": {
          "base_uri": "https://localhost:8080/"
        },
        "id": "blilwQprZRci",
        "outputId": "bc6430a4-688b-4f4f-e2ed-dc6e5dbe695b"
      },
      "execution_count": 84,
      "outputs": [
        {
          "output_type": "stream",
          "name": "stdout",
          "text": [
            "택시 타고 가세요.\n"
          ]
        }
      ]
    },
    {
      "cell_type": "code",
      "source": [
        "score=70\n",
        "if score>=60:\n",
        "  message=\"success\"\n",
        "else:\n",
        "    message=\"failure\"\n",
        "message=\"success\"if score>=60 else \"failure\""
      ],
      "metadata": {
        "id": "MpAFwcTJZgye"
      },
      "execution_count": 88,
      "outputs": []
    }
  ]
}