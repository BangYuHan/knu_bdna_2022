{
  "nbformat": 4,
  "nbformat_minor": 0,
  "metadata": {
    "colab": {
      "name": "방유한3강.ipynb",
      "provenance": [],
      "authorship_tag": "ABX9TyMwebtrYBDmehU6XRzmgv0R",
      "include_colab_link": true
    },
    "kernelspec": {
      "name": "python3",
      "display_name": "Python 3"
    },
    "language_info": {
      "name": "python"
    }
  },
  "cells": [
    {
      "cell_type": "markdown",
      "metadata": {
        "id": "view-in-github",
        "colab_type": "text"
      },
      "source": [
        "<a href=\"https://colab.research.google.com/github/BangYuHan/knu_bdna_2022/blob/main/%EB%B0%A9%EC%9C%A0%ED%95%9C3%EA%B0%95.ipynb\" target=\"_parent\"><img src=\"https://colab.research.google.com/assets/colab-badge.svg\" alt=\"Open In Colab\"/></a>"
      ]
    },
    {
      "cell_type": "code",
      "execution_count": 1,
      "metadata": {
        "id": "GUYNl_4fx54B"
      },
      "outputs": [],
      "source": [
        "def greet_three_times():\n",
        "  print('HI')\n",
        "  print('HI')\n",
        "  print('HI')"
      ]
    },
    {
      "cell_type": "code",
      "source": [
        "greet_three_times()"
      ],
      "metadata": {
        "colab": {
          "base_uri": "https://localhost:8080/"
        },
        "id": "XC6QNSCnyPQR",
        "outputId": "8c21a10e-3a8e-4a8e-b470-bfabcec3e95e"
      },
      "execution_count": 3,
      "outputs": [
        {
          "output_type": "stream",
          "name": "stdout",
          "text": [
            "HI\n",
            "HI\n",
            "HI\n"
          ]
        }
      ]
    },
    {
      "cell_type": "code",
      "source": [
        "def greet_10(num):\n",
        "  if (num>0):\n",
        "    print('HI')\n",
        "    num=num-1\n",
        "    greet_10(num)"
      ],
      "metadata": {
        "id": "2rYxwuALyUsv"
      },
      "execution_count": 4,
      "outputs": []
    },
    {
      "cell_type": "code",
      "source": [
        "greet_10(3)"
      ],
      "metadata": {
        "colab": {
          "base_uri": "https://localhost:8080/"
        },
        "id": "gnWHOj--y2qU",
        "outputId": "edd53684-8b3e-41d3-da87-c1507768b9a8"
      },
      "execution_count": 5,
      "outputs": [
        {
          "output_type": "stream",
          "name": "stdout",
          "text": [
            "HI\n",
            "HI\n",
            "HI\n"
          ]
        }
      ]
    },
    {
      "cell_type": "code",
      "source": [
        "greet_10(5)"
      ],
      "metadata": {
        "colab": {
          "base_uri": "https://localhost:8080/"
        },
        "id": "thwwQr87y5HG",
        "outputId": "7eb9fd11-8dfb-4582-f998-e1c52ce83650"
      },
      "execution_count": 6,
      "outputs": [
        {
          "output_type": "stream",
          "name": "stdout",
          "text": [
            "HI\n",
            "HI\n",
            "HI\n",
            "HI\n",
            "HI\n"
          ]
        }
      ]
    },
    {
      "cell_type": "code",
      "source": [
        "greet_10(1)"
      ],
      "metadata": {
        "colab": {
          "base_uri": "https://localhost:8080/"
        },
        "id": "3bqKEBRTzKZs",
        "outputId": "0f46d269-34f9-4faa-8ac7-15c272b17eb2"
      },
      "execution_count": 7,
      "outputs": [
        {
          "output_type": "stream",
          "name": "stdout",
          "text": [
            "HI\n"
          ]
        }
      ]
    },
    {
      "cell_type": "code",
      "source": [
        "sum=0\n",
        "for i in range(1,11):\n",
        "  sum=sum+i"
      ],
      "metadata": {
        "id": "af3D2sIzzZG5"
      },
      "execution_count": 8,
      "outputs": []
    },
    {
      "cell_type": "code",
      "source": [
        "import random\n",
        "NUMBER_OF_TRIALS=5000000\n",
        "numberOfHits=0"
      ],
      "metadata": {
        "id": "-bY25DQ_zvL5"
      },
      "execution_count": 10,
      "outputs": []
    },
    {
      "cell_type": "code",
      "source": [
        "for i in range(NUMBER_OF_TRIALS):\n",
        "  x=random.random()*2-1\n",
        "  y=random.random()*2-1\n",
        "  if x*x+y*y<=1:\n",
        "    numberOfHits+=1"
      ],
      "metadata": {
        "id": "wACRp5Go3ZO9"
      },
      "execution_count": 11,
      "outputs": []
    },
    {
      "cell_type": "code",
      "source": [
        "pi=4*numberOfHits/NUMBER_OF_TRIALS"
      ],
      "metadata": {
        "id": "Ugx7eMfE32Et"
      },
      "execution_count": 12,
      "outputs": []
    },
    {
      "cell_type": "code",
      "source": [
        "print(\"PI는\",pi,\"입니다\")"
      ],
      "metadata": {
        "colab": {
          "base_uri": "https://localhost:8080/"
        },
        "id": "SWljtO0p39_m",
        "outputId": "4c5a0035-aa21-40d9-ad5f-7f84358322b1"
      },
      "execution_count": 13,
      "outputs": [
        {
          "output_type": "stream",
          "name": "stdout",
          "text": [
            "PI는 3.1416808 입니다\n"
          ]
        }
      ]
    },
    {
      "cell_type": "code",
      "source": [
        "count=0\n",
        "while count<100:\n",
        "  print(\"프로그래밍은 어렵습니다 !\")\n",
        "  count=count+1"
      ],
      "metadata": {
        "colab": {
          "base_uri": "https://localhost:8080/"
        },
        "id": "BoEJMzB24Eym",
        "outputId": "554176ad-2931-464c-d55e-541a36a45887"
      },
      "execution_count": 14,
      "outputs": [
        {
          "output_type": "stream",
          "name": "stdout",
          "text": [
            "프로그래밍은 어렵습니다 !\n",
            "프로그래밍은 어렵습니다 !\n",
            "프로그래밍은 어렵습니다 !\n",
            "프로그래밍은 어렵습니다 !\n",
            "프로그래밍은 어렵습니다 !\n",
            "프로그래밍은 어렵습니다 !\n",
            "프로그래밍은 어렵습니다 !\n",
            "프로그래밍은 어렵습니다 !\n",
            "프로그래밍은 어렵습니다 !\n",
            "프로그래밍은 어렵습니다 !\n",
            "프로그래밍은 어렵습니다 !\n",
            "프로그래밍은 어렵습니다 !\n",
            "프로그래밍은 어렵습니다 !\n",
            "프로그래밍은 어렵습니다 !\n",
            "프로그래밍은 어렵습니다 !\n",
            "프로그래밍은 어렵습니다 !\n",
            "프로그래밍은 어렵습니다 !\n",
            "프로그래밍은 어렵습니다 !\n",
            "프로그래밍은 어렵습니다 !\n",
            "프로그래밍은 어렵습니다 !\n",
            "프로그래밍은 어렵습니다 !\n",
            "프로그래밍은 어렵습니다 !\n",
            "프로그래밍은 어렵습니다 !\n",
            "프로그래밍은 어렵습니다 !\n",
            "프로그래밍은 어렵습니다 !\n",
            "프로그래밍은 어렵습니다 !\n",
            "프로그래밍은 어렵습니다 !\n",
            "프로그래밍은 어렵습니다 !\n",
            "프로그래밍은 어렵습니다 !\n",
            "프로그래밍은 어렵습니다 !\n",
            "프로그래밍은 어렵습니다 !\n",
            "프로그래밍은 어렵습니다 !\n",
            "프로그래밍은 어렵습니다 !\n",
            "프로그래밍은 어렵습니다 !\n",
            "프로그래밍은 어렵습니다 !\n",
            "프로그래밍은 어렵습니다 !\n",
            "프로그래밍은 어렵습니다 !\n",
            "프로그래밍은 어렵습니다 !\n",
            "프로그래밍은 어렵습니다 !\n",
            "프로그래밍은 어렵습니다 !\n",
            "프로그래밍은 어렵습니다 !\n",
            "프로그래밍은 어렵습니다 !\n",
            "프로그래밍은 어렵습니다 !\n",
            "프로그래밍은 어렵습니다 !\n",
            "프로그래밍은 어렵습니다 !\n",
            "프로그래밍은 어렵습니다 !\n",
            "프로그래밍은 어렵습니다 !\n",
            "프로그래밍은 어렵습니다 !\n",
            "프로그래밍은 어렵습니다 !\n",
            "프로그래밍은 어렵습니다 !\n",
            "프로그래밍은 어렵습니다 !\n",
            "프로그래밍은 어렵습니다 !\n",
            "프로그래밍은 어렵습니다 !\n",
            "프로그래밍은 어렵습니다 !\n",
            "프로그래밍은 어렵습니다 !\n",
            "프로그래밍은 어렵습니다 !\n",
            "프로그래밍은 어렵습니다 !\n",
            "프로그래밍은 어렵습니다 !\n",
            "프로그래밍은 어렵습니다 !\n",
            "프로그래밍은 어렵습니다 !\n",
            "프로그래밍은 어렵습니다 !\n",
            "프로그래밍은 어렵습니다 !\n",
            "프로그래밍은 어렵습니다 !\n",
            "프로그래밍은 어렵습니다 !\n",
            "프로그래밍은 어렵습니다 !\n",
            "프로그래밍은 어렵습니다 !\n",
            "프로그래밍은 어렵습니다 !\n",
            "프로그래밍은 어렵습니다 !\n",
            "프로그래밍은 어렵습니다 !\n",
            "프로그래밍은 어렵습니다 !\n",
            "프로그래밍은 어렵습니다 !\n",
            "프로그래밍은 어렵습니다 !\n",
            "프로그래밍은 어렵습니다 !\n",
            "프로그래밍은 어렵습니다 !\n",
            "프로그래밍은 어렵습니다 !\n",
            "프로그래밍은 어렵습니다 !\n",
            "프로그래밍은 어렵습니다 !\n",
            "프로그래밍은 어렵습니다 !\n",
            "프로그래밍은 어렵습니다 !\n",
            "프로그래밍은 어렵습니다 !\n",
            "프로그래밍은 어렵습니다 !\n",
            "프로그래밍은 어렵습니다 !\n",
            "프로그래밍은 어렵습니다 !\n",
            "프로그래밍은 어렵습니다 !\n",
            "프로그래밍은 어렵습니다 !\n",
            "프로그래밍은 어렵습니다 !\n",
            "프로그래밍은 어렵습니다 !\n",
            "프로그래밍은 어렵습니다 !\n",
            "프로그래밍은 어렵습니다 !\n",
            "프로그래밍은 어렵습니다 !\n",
            "프로그래밍은 어렵습니다 !\n",
            "프로그래밍은 어렵습니다 !\n",
            "프로그래밍은 어렵습니다 !\n",
            "프로그래밍은 어렵습니다 !\n",
            "프로그래밍은 어렵습니다 !\n",
            "프로그래밍은 어렵습니다 !\n",
            "프로그래밍은 어렵습니다 !\n",
            "프로그래밍은 어렵습니다 !\n",
            "프로그래밍은 어렵습니다 !\n",
            "프로그래밍은 어렵습니다 !\n"
          ]
        }
      ]
    },
    {
      "cell_type": "code",
      "source": [
        "import random\n",
        "NUMBER_OF_TRIALS=5000000\n",
        "numberOfHits=0\n",
        "i=0\n",
        "while (i<NUMBER_OF_TRIALS):\n",
        "  x=random.random()*2-1\n",
        "  y=random.random()*2-1\n",
        "  if x*x+y*y<=1:\n",
        "    numberOfHits+=1\n",
        "    i=i+1\n"
      ],
      "metadata": {
        "id": "jmyHPMjr53tO"
      },
      "execution_count": 17,
      "outputs": []
    },
    {
      "cell_type": "code",
      "source": [
        "pi=4*numberOfHits/NUMBER_OF_TRIALS"
      ],
      "metadata": {
        "id": "xM6U3RWt7ASq"
      },
      "execution_count": 18,
      "outputs": []
    },
    {
      "cell_type": "code",
      "source": [
        "print(\"PI는\",pi,\"입니다.\")"
      ],
      "metadata": {
        "colab": {
          "base_uri": "https://localhost:8080/"
        },
        "id": "Yso03KQZ7VUA",
        "outputId": "3de2f3d8-1041-49a1-e330-557b7ec54a29"
      },
      "execution_count": 19,
      "outputs": [
        {
          "output_type": "stream",
          "name": "stdout",
          "text": [
            "PI는 4.0 입니다.\n"
          ]
        }
      ]
    },
    {
      "cell_type": "code",
      "source": [
        "x=5"
      ],
      "metadata": {
        "id": "AMLp76JO7a3O"
      },
      "execution_count": 20,
      "outputs": []
    },
    {
      "cell_type": "code",
      "source": [
        "y=7"
      ],
      "metadata": {
        "id": "9J3RHiXW7_sM"
      },
      "execution_count": 21,
      "outputs": []
    },
    {
      "cell_type": "code",
      "source": [
        "x<y"
      ],
      "metadata": {
        "colab": {
          "base_uri": "https://localhost:8080/"
        },
        "id": "BVQtVzo28CYQ",
        "outputId": "46890234-0f3f-49a6-dad1-dab07126a7f6"
      },
      "execution_count": 22,
      "outputs": [
        {
          "output_type": "execute_result",
          "data": {
            "text/plain": [
              "True"
            ]
          },
          "metadata": {},
          "execution_count": 22
        }
      ]
    },
    {
      "cell_type": "code",
      "source": [
        "x=15\n",
        "y=13\n",
        "bool(x>y)"
      ],
      "metadata": {
        "colab": {
          "base_uri": "https://localhost:8080/"
        },
        "id": "ewT_YGDF8ETI",
        "outputId": "2b954f69-433f-4066-e96c-14ed119336f1"
      },
      "execution_count": 23,
      "outputs": [
        {
          "output_type": "execute_result",
          "data": {
            "text/plain": [
              "True"
            ]
          },
          "metadata": {},
          "execution_count": 23
        }
      ]
    },
    {
      "cell_type": "code",
      "source": [
        "x=5"
      ],
      "metadata": {
        "id": "YEbw6t-18LKk"
      },
      "execution_count": 24,
      "outputs": []
    },
    {
      "cell_type": "code",
      "source": [
        "y=7"
      ],
      "metadata": {
        "id": "W5kDx5Xp8UI3"
      },
      "execution_count": 25,
      "outputs": []
    },
    {
      "cell_type": "code",
      "source": [
        "bool(x!=y)"
      ],
      "metadata": {
        "colab": {
          "base_uri": "https://localhost:8080/"
        },
        "id": "awFjVfDX8Vq9",
        "outputId": "bd3c4b76-cf44-4568-8b93-99cf45007721"
      },
      "execution_count": 26,
      "outputs": [
        {
          "output_type": "execute_result",
          "data": {
            "text/plain": [
              "True"
            ]
          },
          "metadata": {},
          "execution_count": 26
        }
      ]
    },
    {
      "cell_type": "code",
      "source": [
        "bool(x==y)"
      ],
      "metadata": {
        "colab": {
          "base_uri": "https://localhost:8080/"
        },
        "id": "d9-Dv1hS8a35",
        "outputId": "663a6329-34d9-4a90-d304-4b49411a1ab7"
      },
      "execution_count": 27,
      "outputs": [
        {
          "output_type": "execute_result",
          "data": {
            "text/plain": [
              "False"
            ]
          },
          "metadata": {},
          "execution_count": 27
        }
      ]
    },
    {
      "cell_type": "code",
      "source": [
        "bool(x<=y)"
      ],
      "metadata": {
        "colab": {
          "base_uri": "https://localhost:8080/"
        },
        "id": "MdIvpHRf8xpN",
        "outputId": "f1ae83c3-6346-47e8-da36-a9639c60e9f0"
      },
      "execution_count": 28,
      "outputs": [
        {
          "output_type": "execute_result",
          "data": {
            "text/plain": [
              "True"
            ]
          },
          "metadata": {},
          "execution_count": 28
        }
      ]
    },
    {
      "cell_type": "code",
      "source": [
        "money=2000"
      ],
      "metadata": {
        "id": "jxlkl_Ph9LYJ"
      },
      "execution_count": 34,
      "outputs": []
    },
    {
      "cell_type": "code",
      "source": [
        "if money>=3300:\n",
        "  print(\"택시 타고 가세요.\")\n",
        "else:\n",
        "    print(\"걸어가세요.\")"
      ],
      "metadata": {
        "colab": {
          "base_uri": "https://localhost:8080/"
        },
        "id": "hjOiC9A_9n4f",
        "outputId": "a264cde9-358c-44e2-c6d2-1fb0bdd92ce6"
      },
      "execution_count": 47,
      "outputs": [
        {
          "output_type": "stream",
          "name": "stdout",
          "text": [
            "걸어가세요.\n"
          ]
        }
      ]
    },
    {
      "cell_type": "code",
      "source": [
        "money=2000"
      ],
      "metadata": {
        "id": "FJmMY3do-Evr"
      },
      "execution_count": 41,
      "outputs": []
    },
    {
      "cell_type": "code",
      "source": [
        "card=True"
      ],
      "metadata": {
        "id": "tx1MWDFL-eoF"
      },
      "execution_count": 42,
      "outputs": []
    },
    {
      "cell_type": "code",
      "source": [
        "if money>=3300 or card:\n",
        "  print(\"택시 타고 가세요.\")\n",
        "else:\n",
        "    print(\"걸어가세요.\")"
      ],
      "metadata": {
        "colab": {
          "base_uri": "https://localhost:8080/"
        },
        "id": "2R0XvmZZ-gii",
        "outputId": "5bf46ff9-76c4-46ed-c54c-e6dad8634886"
      },
      "execution_count": 48,
      "outputs": [
        {
          "output_type": "stream",
          "name": "stdout",
          "text": [
            "택시 타고 가세요.\n"
          ]
        }
      ]
    },
    {
      "cell_type": "code",
      "source": [
        "bool(True or True)"
      ],
      "metadata": {
        "colab": {
          "base_uri": "https://localhost:8080/"
        },
        "id": "ZW5KTLM1-tTP",
        "outputId": "036d284a-b23a-4493-b14e-34cdb9054393"
      },
      "execution_count": 45,
      "outputs": [
        {
          "output_type": "execute_result",
          "data": {
            "text/plain": [
              "True"
            ]
          },
          "metadata": {},
          "execution_count": 45
        }
      ]
    },
    {
      "cell_type": "code",
      "source": [
        "bool(True or False)"
      ],
      "metadata": {
        "colab": {
          "base_uri": "https://localhost:8080/"
        },
        "id": "tY9vngTa-9Fd",
        "outputId": "6dcd0888-8e09-4077-dcbb-189ddd1e3826"
      },
      "execution_count": 46,
      "outputs": [
        {
          "output_type": "execute_result",
          "data": {
            "text/plain": [
              "True"
            ]
          },
          "metadata": {},
          "execution_count": 46
        }
      ]
    },
    {
      "cell_type": "code",
      "source": [
        "bool(False or False)"
      ],
      "metadata": {
        "colab": {
          "base_uri": "https://localhost:8080/"
        },
        "id": "Op1BAn_I_A_U",
        "outputId": "ae66b716-d21d-449e-9cac-3432f6a793a2"
      },
      "execution_count": 52,
      "outputs": [
        {
          "output_type": "execute_result",
          "data": {
            "text/plain": [
              "False"
            ]
          },
          "metadata": {},
          "execution_count": 52
        }
      ]
    },
    {
      "cell_type": "code",
      "source": [
        "bool(not True)"
      ],
      "metadata": {
        "colab": {
          "base_uri": "https://localhost:8080/"
        },
        "id": "8pkLL1xE_zPw",
        "outputId": "abdb9386-a34d-49c6-8fca-14a69d988137"
      },
      "execution_count": 53,
      "outputs": [
        {
          "output_type": "execute_result",
          "data": {
            "text/plain": [
              "False"
            ]
          },
          "metadata": {},
          "execution_count": 53
        }
      ]
    },
    {
      "cell_type": "code",
      "source": [
        "bool(not False)"
      ],
      "metadata": {
        "colab": {
          "base_uri": "https://localhost:8080/"
        },
        "id": "z3W_8PzL_4nS",
        "outputId": "741d8212-c980-4d33-972e-c784ba54c345"
      },
      "execution_count": 54,
      "outputs": [
        {
          "output_type": "execute_result",
          "data": {
            "text/plain": [
              "True"
            ]
          },
          "metadata": {},
          "execution_count": 54
        }
      ]
    },
    {
      "cell_type": "code",
      "source": [
        "bool(not(True or False))"
      ],
      "metadata": {
        "colab": {
          "base_uri": "https://localhost:8080/"
        },
        "id": "NrgFOFaf_7sM",
        "outputId": "486dd19b-3247-4706-cf8f-396269e31fd9"
      },
      "execution_count": 55,
      "outputs": [
        {
          "output_type": "execute_result",
          "data": {
            "text/plain": [
              "False"
            ]
          },
          "metadata": {},
          "execution_count": 55
        }
      ]
    },
    {
      "cell_type": "code",
      "source": [
        "bool((not True)or False)"
      ],
      "metadata": {
        "colab": {
          "base_uri": "https://localhost:8080/"
        },
        "id": "s4p-d15IACNW",
        "outputId": "bd0278a3-ac8d-4988-ab2a-6cfc06d76f3d"
      },
      "execution_count": 56,
      "outputs": [
        {
          "output_type": "execute_result",
          "data": {
            "text/plain": [
              "False"
            ]
          },
          "metadata": {},
          "execution_count": 56
        }
      ]
    },
    {
      "cell_type": "code",
      "source": [
        "bool((not False)or False)"
      ],
      "metadata": {
        "colab": {
          "base_uri": "https://localhost:8080/"
        },
        "id": "9rcdVctwAKk0",
        "outputId": "3dcb7ff6-6620-43a6-aaef-eae079163e55"
      },
      "execution_count": 57,
      "outputs": [
        {
          "output_type": "execute_result",
          "data": {
            "text/plain": [
              "True"
            ]
          },
          "metadata": {},
          "execution_count": 57
        }
      ]
    },
    {
      "cell_type": "code",
      "source": [
        "1 in(1,2,3)"
      ],
      "metadata": {
        "colab": {
          "base_uri": "https://localhost:8080/"
        },
        "id": "Ynx3jsJ_AS5W",
        "outputId": "7b95a2d8-6f6d-4142-b91f-a0e2bbe28bb8"
      },
      "execution_count": 58,
      "outputs": [
        {
          "output_type": "execute_result",
          "data": {
            "text/plain": [
              "True"
            ]
          },
          "metadata": {},
          "execution_count": 58
        }
      ]
    },
    {
      "cell_type": "code",
      "source": [
        "5 in(1,2,3)"
      ],
      "metadata": {
        "colab": {
          "base_uri": "https://localhost:8080/"
        },
        "id": "I5Z-EcgEBsqf",
        "outputId": "1addad79-0523-42f7-d8dd-d4922345d69d"
      },
      "execution_count": 59,
      "outputs": [
        {
          "output_type": "execute_result",
          "data": {
            "text/plain": [
              "False"
            ]
          },
          "metadata": {},
          "execution_count": 59
        }
      ]
    },
    {
      "cell_type": "code",
      "source": [
        "5 not in(1,2,3) "
      ],
      "metadata": {
        "colab": {
          "base_uri": "https://localhost:8080/"
        },
        "id": "XVWwQSdMBvB7",
        "outputId": "b393eb09-8dae-4b9f-c119-019f3c0716c9"
      },
      "execution_count": 60,
      "outputs": [
        {
          "output_type": "execute_result",
          "data": {
            "text/plain": [
              "True"
            ]
          },
          "metadata": {},
          "execution_count": 60
        }
      ]
    },
    {
      "cell_type": "code",
      "source": [
        "1 not in(1,2,3)"
      ],
      "metadata": {
        "colab": {
          "base_uri": "https://localhost:8080/"
        },
        "id": "B9EHmzBABzvH",
        "outputId": "9244e6fe-fc44-4a21-f762-d3a1de53bf0a"
      },
      "execution_count": 61,
      "outputs": [
        {
          "output_type": "execute_result",
          "data": {
            "text/plain": [
              "False"
            ]
          },
          "metadata": {},
          "execution_count": 61
        }
      ]
    },
    {
      "cell_type": "code",
      "source": [
        "pocket=('paper','cellphone','money')"
      ],
      "metadata": {
        "id": "5QAjXrOvB15Y"
      },
      "execution_count": 62,
      "outputs": []
    },
    {
      "cell_type": "code",
      "source": [
        "if'money'in pocket:\n",
        "  print(\"택시를 타고 가세요.\")\n",
        "else:\n",
        "  print(\"걸어가세요.\")"
      ],
      "metadata": {
        "colab": {
          "base_uri": "https://localhost:8080/"
        },
        "id": "pM0xez-vCD9S",
        "outputId": "765b453d-77c0-4502-a2e9-dead94e51018"
      },
      "execution_count": 63,
      "outputs": [
        {
          "output_type": "stream",
          "name": "stdout",
          "text": [
            "택시를 타고 가세요.\n"
          ]
        }
      ]
    },
    {
      "cell_type": "code",
      "source": [
        "pocket=('paper','cellphone','money')"
      ],
      "metadata": {
        "id": "yu9EUcXtCSNB"
      },
      "execution_count": 64,
      "outputs": []
    },
    {
      "cell_type": "code",
      "source": [
        "if 'money'in pocket:\n",
        "  pass\n",
        "else:\n",
        "  print(\"카트를 꺼내세요.\")"
      ],
      "metadata": {
        "id": "Q-5N1CyTCahG"
      },
      "execution_count": 65,
      "outputs": []
    },
    {
      "cell_type": "code",
      "source": [
        "if(3>2):\n",
        "  else:\n",
        "  print(\"hello\")"
      ],
      "metadata": {
        "colab": {
          "base_uri": "https://localhost:8080/",
          "height": 137
        },
        "id": "zJXt2bsRCm3j",
        "outputId": "2f771b1e-0869-4358-c3d6-a11b1cd5afc0"
      },
      "execution_count": 93,
      "outputs": [
        {
          "output_type": "error",
          "ename": "IndentationError",
          "evalue": "ignored",
          "traceback": [
            "\u001b[0;36m  File \u001b[0;32m\"<ipython-input-93-a93252eb587c>\"\u001b[0;36m, line \u001b[0;32m2\u001b[0m\n\u001b[0;31m    else:\u001b[0m\n\u001b[0m       ^\u001b[0m\n\u001b[0;31mIndentationError\u001b[0m\u001b[0;31m:\u001b[0m expected an indented block\n"
          ]
        }
      ]
    },
    {
      "cell_type": "code",
      "source": [
        "if(3>2):\n",
        "  pass\n",
        "else:\n",
        "  print(\"hello\")"
      ],
      "metadata": {
        "id": "sw4wJMCBC3uL"
      },
      "execution_count": 91,
      "outputs": []
    },
    {
      "cell_type": "code",
      "source": [
        "pocket=('paper','handphone')"
      ],
      "metadata": {
        "id": "Yka5Dk_SEl7r"
      },
      "execution_count": 94,
      "outputs": []
    },
    {
      "cell_type": "code",
      "source": [
        "card=True"
      ],
      "metadata": {
        "id": "Ishp8ceMIBC4"
      },
      "execution_count": 95,
      "outputs": []
    },
    {
      "cell_type": "code",
      "source": [
        "if'money' in pocket:\n",
        "  print(\"택시 타고 가세요.\")\n",
        "else:\n",
        "    if card:\n",
        "      print(\"택시 타고 가세요\")\n",
        "    else:\n",
        "        print(\"걸어가세요.\")\n"
      ],
      "metadata": {
        "colab": {
          "base_uri": "https://localhost:8080/"
        },
        "id": "P6KuBE7lICzM",
        "outputId": "3f557f51-cf9f-4027-a211-00e0398b4d1d"
      },
      "execution_count": 98,
      "outputs": [
        {
          "output_type": "stream",
          "name": "stdout",
          "text": [
            "택시 타고 가세요\n"
          ]
        }
      ]
    },
    {
      "cell_type": "code",
      "source": [
        "if 'money'in pocket:\n",
        "  print(\"택시 타고 가세요.\")\n",
        "elif card:\n",
        "    print(\"택시 타고 가세요.\")\n",
        "else:\n",
        "  print(\"걸어가세요.\")"
      ],
      "metadata": {
        "colab": {
          "base_uri": "https://localhost:8080/"
        },
        "id": "aJKUR2_lIeqU",
        "outputId": "690468f3-4b1a-42da-f6bc-2a16de23f7b8"
      },
      "execution_count": 99,
      "outputs": [
        {
          "output_type": "stream",
          "name": "stdout",
          "text": [
            "택시 타고 가세요.\n"
          ]
        }
      ]
    },
    {
      "cell_type": "code",
      "source": [
        "if score>=60:\n",
        "  message=\"success\"\n",
        "else:\n",
        "    message=\"failure\"\n",
        "message=\"success\"if score>=60 else \"failure\""
      ],
      "metadata": {
        "id": "zsIVaeDBKecU"
      },
      "execution_count": 117,
      "outputs": []
    },
    {
      "cell_type": "code",
      "source": [
        ""
      ],
      "metadata": {
        "id": "kHQbKb66K8t3"
      },
      "execution_count": null,
      "outputs": []
    }
  ]
}