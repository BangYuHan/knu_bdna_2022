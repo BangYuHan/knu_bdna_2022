{
  "nbformat": 4,
  "nbformat_minor": 0,
  "metadata": {
    "colab": {
      "name": "방유한2강3강.ipynb",
      "provenance": [],
      "authorship_tag": "ABX9TyPuodusIG7wCJMN77xvW4YV",
      "include_colab_link": true
    },
    "kernelspec": {
      "name": "python3",
      "display_name": "Python 3"
    },
    "language_info": {
      "name": "python"
    }
  },
  "cells": [
    {
      "cell_type": "markdown",
      "metadata": {
        "id": "view-in-github",
        "colab_type": "text"
      },
      "source": [
        "<a href=\"https://colab.research.google.com/github/BangYuHan/knu_bdna_2022/blob/main/%EB%B0%A9%EC%9C%A0%ED%95%9C2%EA%B0%953%EA%B0%95.ipynb\" target=\"_parent\"><img src=\"https://colab.research.google.com/assets/colab-badge.svg\" alt=\"Open In Colab\"/></a>"
      ]
    },
    {
      "cell_type": "code",
      "source": [
        " import numpy as np"
      ],
      "metadata": {
        "id": "nahXwpMYMfwr"
      },
      "execution_count": null,
      "outputs": []
    },
    {
      "cell_type": "code",
      "source": [
        "np.__version__"
      ],
      "metadata": {
        "colab": {
          "base_uri": "https://localhost:8080/",
          "height": 35
        },
        "id": "eRyGKaJdMw48",
        "outputId": "9ce840c7-9bd7-4a0c-a68f-0b7ed9876d9d"
      },
      "execution_count": null,
      "outputs": [
        {
          "output_type": "execute_result",
          "data": {
            "text/plain": [
              "'1.21.5'"
            ],
            "application/vnd.google.colaboratory.intrinsic+json": {
              "type": "string"
            }
          },
          "metadata": {},
          "execution_count": 3
        }
      ]
    },
    {
      "cell_type": "code",
      "source": [
        "a=np.array((1,2,3),dtype=float)\n",
        "print(a)"
      ],
      "metadata": {
        "colab": {
          "base_uri": "https://localhost:8080/"
        },
        "id": "VNQ-_Y_4MzY5",
        "outputId": "46a6ce4d-0543-4748-d50b-53aff08e96ca"
      },
      "execution_count": null,
      "outputs": [
        {
          "output_type": "stream",
          "name": "stdout",
          "text": [
            "[1. 2. 3.]\n"
          ]
        }
      ]
    },
    {
      "cell_type": "code",
      "source": [
        "a=np.array([(1,2,3),(4,5,6)],dtype=float)\n",
        "print(a)         "
      ],
      "metadata": {
        "colab": {
          "base_uri": "https://localhost:8080/"
        },
        "id": "rqfw7V-DNFKS",
        "outputId": "ced68013-e196-4278-e3ad-75c70f355ce6"
      },
      "execution_count": null,
      "outputs": [
        {
          "output_type": "stream",
          "name": "stdout",
          "text": [
            "[[1. 2. 3.]\n",
            " [4. 5. 6.]]\n"
          ]
        }
      ]
    },
    {
      "cell_type": "code",
      "source": [
        "a=np.array([[[1,2,3],[4,5,6]],[[3,2,1],[4,5,6]]],dtype=float)\n",
        "print(a)"
      ],
      "metadata": {
        "colab": {
          "base_uri": "https://localhost:8080/"
        },
        "id": "5Bly6alfNemg",
        "outputId": "f55f1447-dd0a-42ae-e628-0840ec64a736"
      },
      "execution_count": null,
      "outputs": [
        {
          "output_type": "stream",
          "name": "stdout",
          "text": [
            "[[[1. 2. 3.]\n",
            "  [4. 5. 6.]]\n",
            "\n",
            " [[3. 2. 1.]\n",
            "  [4. 5. 6.]]]\n"
          ]
        }
      ]
    },
    {
      "cell_type": "code",
      "source": [
        "a=np.zeros((3))\n",
        "print(a)"
      ],
      "metadata": {
        "colab": {
          "base_uri": "https://localhost:8080/"
        },
        "id": "Sr7To8pfPM4y",
        "outputId": "0cdbb3e2-e46f-4cc2-8d5b-6a450922bfb4"
      },
      "execution_count": null,
      "outputs": [
        {
          "output_type": "stream",
          "name": "stdout",
          "text": [
            "[0. 0. 0.]\n"
          ]
        }
      ]
    },
    {
      "cell_type": "code",
      "source": [
        "a=np.zeros((3,4))\n",
        "print(a)"
      ],
      "metadata": {
        "colab": {
          "base_uri": "https://localhost:8080/"
        },
        "id": "YBskv6gxR8bj",
        "outputId": "622d3709-0b97-453d-d4ea-df27eb44fec6"
      },
      "execution_count": null,
      "outputs": [
        {
          "output_type": "stream",
          "name": "stdout",
          "text": [
            "[[0. 0. 0. 0.]\n",
            " [0. 0. 0. 0.]\n",
            " [0. 0. 0. 0.]]\n"
          ]
        }
      ]
    },
    {
      "cell_type": "code",
      "source": [
        "a=np.zeros((2,3,4))\n",
        "print(a)"
      ],
      "metadata": {
        "colab": {
          "base_uri": "https://localhost:8080/"
        },
        "id": "8VLFU_aaSR5A",
        "outputId": "4d8799da-9bbe-4939-bb7f-042f5f6d6798"
      },
      "execution_count": null,
      "outputs": [
        {
          "output_type": "stream",
          "name": "stdout",
          "text": [
            "[[[0. 0. 0. 0.]\n",
            "  [0. 0. 0. 0.]\n",
            "  [0. 0. 0. 0.]]\n",
            "\n",
            " [[0. 0. 0. 0.]\n",
            "  [0. 0. 0. 0.]\n",
            "  [0. 0. 0. 0.]]]\n"
          ]
        }
      ]
    },
    {
      "cell_type": "code",
      "source": [
        "a=np.ones((3))\n",
        "print(a)"
      ],
      "metadata": {
        "colab": {
          "base_uri": "https://localhost:8080/"
        },
        "id": "L_p0rScWSVho",
        "outputId": "bbe71cb6-d6d6-4197-bfcc-8177f6068e1c"
      },
      "execution_count": null,
      "outputs": [
        {
          "output_type": "stream",
          "name": "stdout",
          "text": [
            "[1. 1. 1.]\n"
          ]
        }
      ]
    },
    {
      "cell_type": "code",
      "source": [
        "a=np.ones((4,3))\n",
        "print(a)"
      ],
      "metadata": {
        "colab": {
          "base_uri": "https://localhost:8080/"
        },
        "id": "CjSLTsdLSl7n",
        "outputId": "82b61c47-e642-4059-ea27-f39b13bed13e"
      },
      "execution_count": null,
      "outputs": [
        {
          "output_type": "stream",
          "name": "stdout",
          "text": [
            "[[1. 1. 1.]\n",
            " [1. 1. 1.]\n",
            " [1. 1. 1.]\n",
            " [1. 1. 1.]]\n"
          ]
        }
      ]
    },
    {
      "cell_type": "code",
      "source": [
        "a=np.ones((2,2,3))\n",
        "print(a)"
      ],
      "metadata": {
        "colab": {
          "base_uri": "https://localhost:8080/"
        },
        "id": "rZKzqGR3Sqdl",
        "outputId": "1335fa63-5b24-4202-d1de-38d8bdabedf0"
      },
      "execution_count": null,
      "outputs": [
        {
          "output_type": "stream",
          "name": "stdout",
          "text": [
            "[[[1. 1. 1.]\n",
            "  [1. 1. 1.]]\n",
            "\n",
            " [[1. 1. 1.]\n",
            "  [1. 1. 1.]]]\n"
          ]
        }
      ]
    },
    {
      "cell_type": "code",
      "source": [
        "a=np.full((3),4,dtype=np.int16)\n",
        "print(a)"
      ],
      "metadata": {
        "colab": {
          "base_uri": "https://localhost:8080/"
        },
        "id": "9zq4sKEySs-i",
        "outputId": "de50d148-ba52-4df7-9f36-5421c81c6c80"
      },
      "execution_count": null,
      "outputs": [
        {
          "output_type": "stream",
          "name": "stdout",
          "text": [
            "[4 4 4]\n"
          ]
        }
      ]
    },
    {
      "cell_type": "code",
      "source": [
        "a=np.full((3,4),-1,dtype=float)\n",
        "print(a)"
      ],
      "metadata": {
        "colab": {
          "base_uri": "https://localhost:8080/"
        },
        "id": "O9JB33oOVd6X",
        "outputId": "b855d978-60ce-42de-a33e-59185d1ff0be"
      },
      "execution_count": null,
      "outputs": [
        {
          "output_type": "stream",
          "name": "stdout",
          "text": [
            "[[-1. -1. -1. -1.]\n",
            " [-1. -1. -1. -1.]\n",
            " [-1. -1. -1. -1.]]\n"
          ]
        }
      ]
    },
    {
      "cell_type": "code",
      "source": [
        "a=np.full((3,4),-1)\n",
        "print(a)"
      ],
      "metadata": {
        "colab": {
          "base_uri": "https://localhost:8080/"
        },
        "id": "GZ9bSKNGV3CW",
        "outputId": "a6da5432-8ba7-4e99-ded0-e0f2e8ca2d56"
      },
      "execution_count": null,
      "outputs": [
        {
          "output_type": "stream",
          "name": "stdout",
          "text": [
            "[[-1 -1 -1 -1]\n",
            " [-1 -1 -1 -1]\n",
            " [-1 -1 -1 -1]]\n"
          ]
        }
      ]
    },
    {
      "cell_type": "code",
      "source": [
        "a=np.full((2,3,4), -1, dtype=np.float)\n",
        "print(a)"
      ],
      "metadata": {
        "colab": {
          "base_uri": "https://localhost:8080/"
        },
        "id": "mi9clX9WV6yw",
        "outputId": "44a6cbd4-e355-42ea-e2c5-81c23ec0d125"
      },
      "execution_count": null,
      "outputs": [
        {
          "output_type": "stream",
          "name": "stdout",
          "text": [
            "[[[-1. -1. -1. -1.]\n",
            "  [-1. -1. -1. -1.]\n",
            "  [-1. -1. -1. -1.]]\n",
            "\n",
            " [[-1. -1. -1. -1.]\n",
            "  [-1. -1. -1. -1.]\n",
            "  [-1. -1. -1. -1.]]]\n"
          ]
        },
        {
          "output_type": "stream",
          "name": "stderr",
          "text": [
            "/usr/local/lib/python3.7/dist-packages/ipykernel_launcher.py:1: DeprecationWarning: `np.float` is a deprecated alias for the builtin `float`. To silence this warning, use `float` by itself. Doing this will not modify any behavior and is safe. If you specifically wanted the numpy scalar type, use `np.float64` here.\n",
            "Deprecated in NumPy 1.20; for more details and guidance: https://numpy.org/devdocs/release/1.20.0-notes.html#deprecations\n",
            "  \"\"\"Entry point for launching an IPython kernel.\n"
          ]
        }
      ]
    },
    {
      "cell_type": "code",
      "source": [
        "a=np.eye(3,dtype=float)\n",
        "print(a)"
      ],
      "metadata": {
        "colab": {
          "base_uri": "https://localhost:8080/"
        },
        "id": "AsaojA6dWTaY",
        "outputId": "9e91c592-83b4-4889-bd59-060617ebb235"
      },
      "execution_count": null,
      "outputs": [
        {
          "output_type": "stream",
          "name": "stdout",
          "text": [
            "[[1. 0. 0.]\n",
            " [0. 1. 0.]\n",
            " [0. 0. 1.]]\n"
          ]
        }
      ]
    },
    {
      "cell_type": "code",
      "source": [
        "a=np.array([(1,2,3),(4,5,6)],dtype=float)\n",
        "b=np.ones_like(a)\n",
        "print(b)"
      ],
      "metadata": {
        "colab": {
          "base_uri": "https://localhost:8080/"
        },
        "id": "aX7EGlAbWktV",
        "outputId": "d3e8a2ad-503d-49bb-e235-7e33b120a562"
      },
      "execution_count": null,
      "outputs": [
        {
          "output_type": "stream",
          "name": "stdout",
          "text": [
            "[[1. 1. 1.]\n",
            " [1. 1. 1.]]\n"
          ]
        }
      ]
    },
    {
      "cell_type": "code",
      "source": [
        "a=np.array([(1,2,3),(4,5,6)],dtype=float)\n",
        "b=np.ones_like(a)\n",
        "print(a)"
      ],
      "metadata": {
        "colab": {
          "base_uri": "https://localhost:8080/"
        },
        "id": "OOfDMQn4XyiW",
        "outputId": "f6643f99-e01e-4e74-b2e4-f1ba9ca6a3e4"
      },
      "execution_count": null,
      "outputs": [
        {
          "output_type": "stream",
          "name": "stdout",
          "text": [
            "[[1. 2. 3.]\n",
            " [4. 5. 6.]]\n"
          ]
        }
      ]
    },
    {
      "cell_type": "code",
      "source": [
        "a=np.array([(1,2,3),(4,5,6)],dtype=float)\n",
        "b=np.zeros_like(a)\n",
        "print(b)"
      ],
      "metadata": {
        "colab": {
          "base_uri": "https://localhost:8080/"
        },
        "id": "PNVQcjMsXPKj",
        "outputId": "1ccf0f7b-51cb-4f99-cd6d-852c810d472e"
      },
      "execution_count": null,
      "outputs": [
        {
          "output_type": "stream",
          "name": "stdout",
          "text": [
            "[[0. 0. 0.]\n",
            " [0. 0. 0.]]\n"
          ]
        }
      ]
    },
    {
      "cell_type": "code",
      "source": [
        "a=np.array([(1,2,3),(4,5,6)],dtype=float)\n",
        "b=np.full_like(a,-1,dtype=float)\n",
        "print(b)"
      ],
      "metadata": {
        "colab": {
          "base_uri": "https://localhost:8080/"
        },
        "id": "jtwme8N5XmAH",
        "outputId": "4e26d248-7ffa-4a67-aa2f-f5b5598ae57f"
      },
      "execution_count": null,
      "outputs": [
        {
          "output_type": "stream",
          "name": "stdout",
          "text": [
            "[[-1. -1. -1.]\n",
            " [-1. -1. -1.]]\n"
          ]
        }
      ]
    },
    {
      "cell_type": "code",
      "source": [
        "arr=np.array([(1,2,3),(4,5,6)],dtype=float)\n",
        "print(arr)"
      ],
      "metadata": {
        "colab": {
          "base_uri": "https://localhost:8080/"
        },
        "id": "szZLIYNKYcxN",
        "outputId": "a06d11f0-15e1-49f3-b1da-f095a34361be"
      },
      "execution_count": null,
      "outputs": [
        {
          "output_type": "stream",
          "name": "stdout",
          "text": [
            "[[1. 2. 3.]\n",
            " [4. 5. 6.]]\n"
          ]
        }
      ]
    },
    {
      "cell_type": "code",
      "source": [
        "arr.shape"
      ],
      "metadata": {
        "colab": {
          "base_uri": "https://localhost:8080/"
        },
        "id": "gQS2P4KmY2vG",
        "outputId": "c2f79851-375b-4919-fd2a-a1738fb6cd05"
      },
      "execution_count": null,
      "outputs": [
        {
          "output_type": "execute_result",
          "data": {
            "text/plain": [
              "(2, 3)"
            ]
          },
          "metadata": {},
          "execution_count": 51
        }
      ]
    },
    {
      "cell_type": "code",
      "source": [
        "len(arr)"
      ],
      "metadata": {
        "colab": {
          "base_uri": "https://localhost:8080/"
        },
        "id": "zSSTo_fRY4fS",
        "outputId": "ba30580f-c178-48cb-b6c5-e0b1e1a9fbfb"
      },
      "execution_count": null,
      "outputs": [
        {
          "output_type": "execute_result",
          "data": {
            "text/plain": [
              "2"
            ]
          },
          "metadata": {},
          "execution_count": 52
        }
      ]
    },
    {
      "cell_type": "code",
      "source": [
        "arr.ndim"
      ],
      "metadata": {
        "colab": {
          "base_uri": "https://localhost:8080/"
        },
        "id": "xGZrgA3fY53z",
        "outputId": "68e3ecdd-8680-4b37-df85-9db37fc43b52"
      },
      "execution_count": null,
      "outputs": [
        {
          "output_type": "execute_result",
          "data": {
            "text/plain": [
              "2"
            ]
          },
          "metadata": {},
          "execution_count": 53
        }
      ]
    },
    {
      "cell_type": "code",
      "source": [
        "arr.dtype"
      ],
      "metadata": {
        "colab": {
          "base_uri": "https://localhost:8080/"
        },
        "id": "UmnAtql4Y7QI",
        "outputId": "018675e5-0568-461f-88f9-8eedb88c7826"
      },
      "execution_count": null,
      "outputs": [
        {
          "output_type": "execute_result",
          "data": {
            "text/plain": [
              "dtype('float64')"
            ]
          },
          "metadata": {},
          "execution_count": 54
        }
      ]
    },
    {
      "cell_type": "code",
      "source": [
        "a=np.linspace(0,1,5)\n",
        "print(a)"
      ],
      "metadata": {
        "colab": {
          "base_uri": "https://localhost:8080/"
        },
        "id": "h06K_nECY8vz",
        "outputId": "1b73f070-fd62-47c0-bca7-9675579906ca"
      },
      "execution_count": null,
      "outputs": [
        {
          "output_type": "stream",
          "name": "stdout",
          "text": [
            "[0.   0.25 0.5  0.75 1.  ]\n"
          ]
        }
      ]
    },
    {
      "cell_type": "code",
      "source": [
        "a=np.linspace(0,5,6)\n",
        "print(a)"
      ],
      "metadata": {
        "colab": {
          "base_uri": "https://localhost:8080/"
        },
        "id": "GPtZLnxMZX4Q",
        "outputId": "291cb700-a3bc-44c6-cd50-577b4bafa8d2"
      },
      "execution_count": null,
      "outputs": [
        {
          "output_type": "stream",
          "name": "stdout",
          "text": [
            "[0. 1. 2. 3. 4. 5.]\n"
          ]
        }
      ]
    },
    {
      "cell_type": "code",
      "source": [
        "a=np.arange(0,10,2,np.float)\n",
        "print(a)"
      ],
      "metadata": {
        "colab": {
          "base_uri": "https://localhost:8080/"
        },
        "id": "NBIK1zbMZbCb",
        "outputId": "2635b4c5-7468-4c0f-e36a-76851f73a44f"
      },
      "execution_count": null,
      "outputs": [
        {
          "output_type": "stream",
          "name": "stdout",
          "text": [
            "[0. 2. 4. 6. 8.]\n"
          ]
        },
        {
          "output_type": "stream",
          "name": "stderr",
          "text": [
            "/usr/local/lib/python3.7/dist-packages/ipykernel_launcher.py:1: DeprecationWarning: `np.float` is a deprecated alias for the builtin `float`. To silence this warning, use `float` by itself. Doing this will not modify any behavior and is safe. If you specifically wanted the numpy scalar type, use `np.float64` here.\n",
            "Deprecated in NumPy 1.20; for more details and guidance: https://numpy.org/devdocs/release/1.20.0-notes.html#deprecations\n",
            "  \"\"\"Entry point for launching an IPython kernel.\n"
          ]
        }
      ]
    },
    {
      "cell_type": "code",
      "source": [
        "a=np.logspace(0,10,4,np.float)\n",
        "print(a)"
      ],
      "metadata": {
        "colab": {
          "base_uri": "https://localhost:8080/"
        },
        "id": "W9EB5T--ZyAQ",
        "outputId": "43ef242e-2f1c-4b02-d65e-e7b6edbe8f3d"
      },
      "execution_count": null,
      "outputs": [
        {
          "output_type": "stream",
          "name": "stdout",
          "text": [
            "[1.00000000e+00 2.15443469e+03 4.64158883e+06 1.00000000e+10]\n"
          ]
        },
        {
          "output_type": "stream",
          "name": "stderr",
          "text": [
            "/usr/local/lib/python3.7/dist-packages/ipykernel_launcher.py:1: DeprecationWarning: `np.float` is a deprecated alias for the builtin `float`. To silence this warning, use `float` by itself. Doing this will not modify any behavior and is safe. If you specifically wanted the numpy scalar type, use `np.float64` here.\n",
            "Deprecated in NumPy 1.20; for more details and guidance: https://numpy.org/devdocs/release/1.20.0-notes.html#deprecations\n",
            "  \"\"\"Entry point for launching an IPython kernel.\n"
          ]
        }
      ]
    },
    {
      "cell_type": "code",
      "source": [
        "a=np.arange(1,10).reshape(3,3)\n",
        "print(a)"
      ],
      "metadata": {
        "colab": {
          "base_uri": "https://localhost:8080/"
        },
        "id": "3gBfUe3Gf2ND",
        "outputId": "d7ba19bd-01cf-4c12-c01a-a35c67b172de"
      },
      "execution_count": null,
      "outputs": [
        {
          "output_type": "stream",
          "name": "stdout",
          "text": [
            "[[1 2 3]\n",
            " [4 5 6]\n",
            " [7 8 9]]\n"
          ]
        }
      ]
    },
    {
      "cell_type": "code",
      "source": [
        "a=np.arange(1,17).reshape(4,4)\n",
        "print(a)"
      ],
      "metadata": {
        "colab": {
          "base_uri": "https://localhost:8080/"
        },
        "id": "tiej5tLrf_WT",
        "outputId": "5bafa972-3e50-4444-cbf2-3f4110e16e0b"
      },
      "execution_count": null,
      "outputs": [
        {
          "output_type": "stream",
          "name": "stdout",
          "text": [
            "[[ 1  2  3  4]\n",
            " [ 5  6  7  8]\n",
            " [ 9 10 11 12]\n",
            " [13 14 15 16]]\n"
          ]
        }
      ]
    },
    {
      "cell_type": "code",
      "source": [
        "a=np.arange(1,10).reshape(3,3)\n",
        "print(a)\n",
        "b=np.arange(9,0,-1).reshape(3,3)\n",
        "print(b)"
      ],
      "metadata": {
        "colab": {
          "base_uri": "https://localhost:8080/"
        },
        "id": "4-FRjU0oiQCw",
        "outputId": "27eca902-ab59-45a4-a823-1812116c12dd"
      },
      "execution_count": null,
      "outputs": [
        {
          "output_type": "stream",
          "name": "stdout",
          "text": [
            "[[1 2 3]\n",
            " [4 5 6]\n",
            " [7 8 9]]\n",
            "[[9 8 7]\n",
            " [6 5 4]\n",
            " [3 2 1]]\n"
          ]
        }
      ]
    },
    {
      "cell_type": "code",
      "source": [
        "c=np.add(a,b)\n",
        "print(c)"
      ],
      "metadata": {
        "colab": {
          "base_uri": "https://localhost:8080/"
        },
        "id": "nrPQyvQ3iqCW",
        "outputId": "30f61eb8-30df-4902-aaa8-bbcbf4705a5e"
      },
      "execution_count": null,
      "outputs": [
        {
          "output_type": "stream",
          "name": "stdout",
          "text": [
            "[[10 10 10]\n",
            " [10 10 10]\n",
            " [10 10 10]]\n"
          ]
        }
      ]
    },
    {
      "cell_type": "code",
      "source": [
        "d=np.subtract(a,b)\n",
        "print(d)"
      ],
      "metadata": {
        "colab": {
          "base_uri": "https://localhost:8080/"
        },
        "id": "R32Z11lXjG64",
        "outputId": "450c0a50-81f9-4372-96cb-81963c1aa6ec"
      },
      "execution_count": null,
      "outputs": [
        {
          "output_type": "stream",
          "name": "stdout",
          "text": [
            "[[-8 -6 -4]\n",
            " [-2  0  2]\n",
            " [ 4  6  8]]\n"
          ]
        }
      ]
    },
    {
      "cell_type": "code",
      "source": [
        "c=np.multiply(a,b)\n",
        "print(c)"
      ],
      "metadata": {
        "colab": {
          "base_uri": "https://localhost:8080/"
        },
        "id": "-lfaPCZGjsFq",
        "outputId": "ffc3f8aa-89ab-4c34-9a1a-fe101eb06852"
      },
      "execution_count": null,
      "outputs": [
        {
          "output_type": "stream",
          "name": "stdout",
          "text": [
            "[[ 9 16 21]\n",
            " [24 25 24]\n",
            " [21 16  9]]\n"
          ]
        }
      ]
    },
    {
      "cell_type": "code",
      "source": [
        "d=np.divide(a,b)\n",
        "print(d)"
      ],
      "metadata": {
        "colab": {
          "base_uri": "https://localhost:8080/"
        },
        "id": "nFu9f9PEkEWf",
        "outputId": "5e76bb07-9ac9-43e3-d70c-55f6445af0b1"
      },
      "execution_count": null,
      "outputs": [
        {
          "output_type": "stream",
          "name": "stdout",
          "text": [
            "[[0.11111111 0.25       0.42857143]\n",
            " [0.66666667 1.         1.5       ]\n",
            " [2.33333333 4.         9.        ]]\n"
          ]
        }
      ]
    },
    {
      "cell_type": "code",
      "source": [
        "e=np.dot(a,b)\n",
        "print(e)"
      ],
      "metadata": {
        "colab": {
          "base_uri": "https://localhost:8080/"
        },
        "id": "FCx8S7t4kJsT",
        "outputId": "0b1e1295-4771-4cd0-fc27-980af7427414"
      },
      "execution_count": null,
      "outputs": [
        {
          "output_type": "stream",
          "name": "stdout",
          "text": [
            "[[ 30  24  18]\n",
            " [ 84  69  54]\n",
            " [138 114  90]]\n"
          ]
        }
      ]
    },
    {
      "cell_type": "code",
      "source": [
        "plt.plot([1,2,3],[10,20,-10])\n",
        "plt.show()"
      ],
      "metadata": {
        "colab": {
          "base_uri": "https://localhost:8080/",
          "height": 265
        },
        "id": "102J2Ogskv6Y",
        "outputId": "767a0454-2888-4934-f379-1ebf9acc341e"
      },
      "execution_count": null,
      "outputs": [
        {
          "output_type": "display_data",
          "data": {
            "text/plain": [
              "<Figure size 432x288 with 1 Axes>"
            ],
            "image/png": "[encoded data removed]"
          },
          "metadata": {
            "needs_background": "light"
          }
        }
      ]
    },
    {
      "cell_type": "code",
      "source": [
        "plt.plot([10,20,-10])\n",
        "plt.show"
      ],
      "metadata": {
        "colab": {
          "base_uri": "https://localhost:8080/",
          "height": 283
        },
        "id": "DrAHD_FwlYiM",
        "outputId": "d8eaa934-f812-4ca4-e7ef-2673a90c4811"
      },
      "execution_count": null,
      "outputs": [
        {
          "output_type": "execute_result",
          "data": {
            "text/plain": [
              "<function matplotlib.pyplot.show>"
            ]
          },
          "metadata": {},
          "execution_count": 87
        },
        {
          "output_type": "display_data",
          "data": {
            "text/plain": [
              "<Figure size 432x288 with 1 Axes>"
            ],
            "image/png": "[encoded data removed]"
          },
          "metadata": {
            "needs_background": "light"
          }
        }
      ]
    },
    {
      "cell_type": "code",
      "source": [
        " plt.plot([4,6,10,11],[10,20,25,30])\n",
        " plt.xlabel('x-axis')\n",
        " plt.ylabel('y-axis')\n",
        " plt.title('Data')\n",
        " plt.show()"
      ],
      "metadata": {
        "colab": {
          "base_uri": "https://localhost:8080/",
          "height": 295
        },
        "id": "ePAdcY4pl7pP",
        "outputId": "2ec6d169-9591-456d-e397-08632f6afadb"
      },
      "execution_count": null,
      "outputs": [
        {
          "output_type": "display_data",
          "data": {
            "text/plain": [
              "<Figure size 432x288 with 1 Axes>"
            ],
            "image/png": "[encoded data removed]"
          },
          "metadata": {
            "needs_background": "light"
          }
        }
      ]
    },
    {
      "cell_type": "code",
      "source": [
        "x=np.linspace(0,2*np.pi,100)\n",
        "y=np.sin(x)\n",
        "plt.plot(x,y)\n",
        "plt.xlabel('x-axis')\n",
        "plt.ylabel('y-axis')\n",
        "plt.title('Sin(x)')\n",
        "plt.show()"
      ],
      "metadata": {
        "colab": {
          "base_uri": "https://localhost:8080/",
          "height": 295
        },
        "id": "HmuS_zrQmSj9",
        "outputId": "e12a0892-cef2-4c74-cfe8-75fa2a02f6d3"
      },
      "execution_count": null,
      "outputs": [
        {
          "output_type": "display_data",
          "data": {
            "text/plain": [
              "<Figure size 432x288 with 1 Axes>"
            ],
            "image/png": "[encoded data removed]"
          },
          "metadata": {
            "needs_background": "light"
          }
        }
      ]
    },
    {
      "cell_type": "code",
      "source": [
        "x=np.linspace(0,2*np.pi,100)\n",
        "y=np.sin(x)\n",
        "plt.plot(x,y)\n",
        "plt.xlabel('x-axis')\n",
        "plt.ylabel('y-axis')\n",
        "plt.title('Sin(x)')\n",
        "plt.show()"
      ],
      "metadata": {
        "id": "Hf_2Milzmm28"
      },
      "execution_count": null,
      "outputs": []
    },
    {
      "cell_type": "code",
      "source": [
        "x=np.linspace(0,2*np.pi,10)\n",
        "y=np.sin(x)\n",
        "plt.plot(x,y)\n",
        "plt.xlabel('x-axis')\n",
        "plt.ylabel('y-axis')\n",
        "plt.title('Sin(x)')\n",
        "plt.show()"
      ],
      "metadata": {
        "colab": {
          "base_uri": "https://localhost:8080/",
          "height": 295
        },
        "id": "6RbayzHqoJKK",
        "outputId": "f1d1f314-c50d-476f-fa84-4782d04928b3"
      },
      "execution_count": null,
      "outputs": [
        {
          "output_type": "display_data",
          "data": {
            "text/plain": [
              "<Figure size 432x288 with 1 Axes>"
            ],
            "image/png": "[encoded data removed]"
          },
          "metadata": {
            "needs_background": "light"
          }
        }
      ]
    },
    {
      "cell_type": "code",
      "source": [
        "x=np.linspace(0,2*np.pi,5)\n",
        "y=np.sin(x)\n",
        "plt.plot(x,y)\n",
        "plt.xlabel('x-axis')\n",
        "plt.ylabel('y-axis')\n",
        "plt.title('Sin(x)')\n",
        "plt.show()"
      ],
      "metadata": {
        "colab": {
          "base_uri": "https://localhost:8080/",
          "height": 295
        },
        "id": "U3ZUlAlNoKC8",
        "outputId": "e054811f-2bda-4872-cbf5-275a69a97781"
      },
      "execution_count": null,
      "outputs": [
        {
          "output_type": "display_data",
          "data": {
            "text/plain": [
              "<Figure size 432x288 with 1 Axes>"
            ],
            "image/png": "[encoded data removed]"
          },
          "metadata": {
            "needs_background": "light"
          }
        }
      ]
    },
    {
      "cell_type": "code",
      "source": [
        "x=np.linspace(0,2*np.pi,100)\n",
        "y=np.sin(x)+np.cos(x)+10\n",
        "plt.plot(x,y)\n",
        "plt.xlabel('x-axis')\n",
        "plt.ylabel('y-axis')\n",
        "plt.title('sin(x)+cos(x)+10')\n",
        "plt.show()"
      ],
      "metadata": {
        "colab": {
          "base_uri": "https://localhost:8080/",
          "height": 295
        },
        "id": "nyGi-8B8oMkV",
        "outputId": "70348ff4-e3fe-45ba-bcfd-1145a59149dc"
      },
      "execution_count": null,
      "outputs": [
        {
          "output_type": "display_data",
          "data": {
            "text/plain": [
              "<Figure size 432x288 with 1 Axes>"
            ],
            "image/png": "[encoded data removed]"
          },
          "metadata": {
            "needs_background": "light"
          }
        }
      ]
    },
    {
      "cell_type": "code",
      "source": [
        "x=np.linspace(0,2*np.pi,10)\n",
        "y=np.sin(x)+np.cos(x)+10\n",
        "plt.plot(x,y)\n",
        "plt.xlabel('x-axis')\n",
        "plt.ylabel('y-axis')\n",
        "plt.title('sin(x)+cos(x)+10')\n",
        "plt.show()"
      ],
      "metadata": {
        "colab": {
          "base_uri": "https://localhost:8080/",
          "height": 295
        },
        "id": "LzfS88X0oojZ",
        "outputId": "6dcb4689-bf3a-409d-e3a6-2e5762371451"
      },
      "execution_count": null,
      "outputs": [
        {
          "output_type": "display_data",
          "data": {
            "text/plain": [
              "<Figure size 432x288 with 1 Axes>"
            ],
            "image/png": "[encoded data removed]"
          },
          "metadata": {
            "needs_background": "light"
          }
        }
      ]
    },
    {
      "cell_type": "code",
      "source": [
        "x=np.linspace(0,2*np.pi,5)\n",
        "y=np.sin(x)+np.cos(x)+10\n",
        "plt.plot(x,y)\n",
        "plt.xlabel('x-axis')\n",
        "plt.ylabel('y-axis')\n",
        "plt.title('sin(x)+cos(x)+10')\n",
        "plt.show()"
      ],
      "metadata": {
        "colab": {
          "base_uri": "https://localhost:8080/",
          "height": 295
        },
        "id": "0tvHMz9UosJD",
        "outputId": "59a90274-f80d-43aa-9941-5ea95808a73c"
      },
      "execution_count": null,
      "outputs": [
        {
          "output_type": "display_data",
          "data": {
            "text/plain": [
              "<Figure size 432x288 with 1 Axes>"
            ],
            "image/png": "[encoded data removed]"
          },
          "metadata": {
            "needs_background": "light"
          }
        }
      ]
    },
    {
      "cell_type": "code",
      "source": [
        "x=np.linspace(0,2*np.pi,100)\n",
        "y1=np.sin(x)\n",
        "y2=np.sin(x)+np.cos(x)\n",
        "plt.plot(x,y1,x,y2)\n",
        "plt.xlabel('x-axis')\n",
        "plt.ylabel('y-axis')\n",
        "plt.title('Two functions')\n",
        "plt.legend(['sin(x)','sin(x)+cos(x)'])\n",
        "plt.show()"
      ],
      "metadata": {
        "colab": {
          "base_uri": "https://localhost:8080/",
          "height": 295
        },
        "id": "GNbtrl9iouIz",
        "outputId": "3b4f400d-aafe-4f06-8b84-3c1acd195748"
      },
      "execution_count": null,
      "outputs": [
        {
          "output_type": "display_data",
          "data": {
            "text/plain": [
              "<Figure size 432x288 with 1 Axes>"
            ],
            "image/png": "[encoded data removed]"
          },
          "metadata": {
            "needs_background": "light"
          }
        }
      ]
    },
    {
      "cell_type": "code",
      "source": [
        "x=np.linspace(0,2*np.pi,10)\n",
        "y1=np.sin(x)\n",
        "y2=np.sin(x)+np.cos(x)\n",
        "plt.plot(x,y1,x,y2)\n",
        "plt.xlabel('x-axis')\n",
        "plt.ylabel('y-axis')\n",
        "plt.title('Two functions')\n",
        "plt.legend(['sin(x)','sin(x)+cos(x)'])\n",
        "plt.show()"
      ],
      "metadata": {
        "colab": {
          "base_uri": "https://localhost:8080/",
          "height": 295
        },
        "id": "ljklSniWpSss",
        "outputId": "aa8eeef9-231e-4f4b-cc52-8b2e469c20c9"
      },
      "execution_count": null,
      "outputs": [
        {
          "output_type": "display_data",
          "data": {
            "text/plain": [
              "<Figure size 432x288 with 1 Axes>"
            ],
            "image/png": "[encoded data removed]"
          },
          "metadata": {
            "needs_background": "light"
          }
        }
      ]
    },
    {
      "cell_type": "code",
      "source": [
        "x=np.linspace(0,2*np.pi,5)\n",
        "y1=np.sin(x)\n",
        "y2=np.sin(x)+np.cos(x)\n",
        "plt.plot(x,y1,x,y2)\n",
        "plt.xlabel('x-axis')\n",
        "plt.ylabel('y-axis')\n",
        "plt.title('Two functions')\n",
        "plt.legend(['sin(x)','sin(x)+cos(x)'])\n",
        "plt.show()"
      ],
      "metadata": {
        "colab": {
          "base_uri": "https://localhost:8080/",
          "height": 295
        },
        "id": "8tcy5acQpXDs",
        "outputId": "8fcbc14a-deec-4a4a-bd07-552a9a0d4b5d"
      },
      "execution_count": null,
      "outputs": [
        {
          "output_type": "display_data",
          "data": {
            "text/plain": [
              "<Figure size 432x288 with 1 Axes>"
            ],
            "image/png": "[encoded data removed]"
          },
          "metadata": {
            "needs_background": "light"
          }
        }
      ]
    },
    {
      "cell_type": "code",
      "source": [
        "x=np.linspace(0,2*np.pi,100)\n",
        "y1=np.sin(x)\n",
        "y2=np.sin(x)+np.cos(x)\n",
        "plt.plot(x,y1,x,y2)\n",
        "plt.xticks([0,np.pi,2*np.pi])\n",
        "plt.yticks([-1,0,+1])\n",
        "plt.xlabel('x-axis')\n",
        "plt.ylabel('y-axis')\n",
        "plt.title('Two functions')\n",
        "plt.legend(['sin(x)','sin(x)+cos(x)'])\n",
        "plt.show()"
      ],
      "metadata": {
        "colab": {
          "base_uri": "https://localhost:8080/",
          "height": 295
        },
        "id": "WDQAYmFVpYaQ",
        "outputId": "bb99f176-264e-4fb3-82ff-751c13b32043"
      },
      "execution_count": null,
      "outputs": [
        {
          "output_type": "display_data",
          "data": {
            "text/plain": [
              "<Figure size 432x288 with 1 Axes>"
            ],
            "image/png": "[encoded data removed]"
          },
          "metadata": {
            "needs_background": "light"
          }
        }
      ]
    },
    {
      "cell_type": "code",
      "source": [
        "x=np.linspace(0,2*np.pi,10)\n",
        "\n",
        "y1=np.sin(x)\n",
        "y2=np.sin(x)+np.cos(x)\n",
        "\n",
        "plt.plot(x,y1,'ro--',x,y2,'ks-')\n",
        "\n",
        "plt.xticks([0,np.pi,2*np.pi])\n",
        "plt.yticks([-1,0,+1])\n",
        "\n",
        "plt.xlabel('x-axis')\n",
        "plt.ylabel('y-axis')\n",
        "plt.title('Two functions')\n",
        "plt.legend(['sin(x)','sin(x)+cos(x)'])\n",
        "plt.show()"
      ],
      "metadata": {
        "colab": {
          "base_uri": "https://localhost:8080/",
          "height": 295
        },
        "id": "Hn7WKKcXqBNg",
        "outputId": "d72f19d0-6d6e-49f3-bb27-2a913edca274"
      },
      "execution_count": null,
      "outputs": [
        {
          "output_type": "display_data",
          "data": {
            "text/plain": [
              "<Figure size 432x288 with 1 Axes>"
            ],
            "image/png": "[encoded data removed]"
          },
          "metadata": {
            "needs_background": "light"
          }
        }
      ]
    },
    {
      "cell_type": "code",
      "source": [
        "x=np.linspace(0,2*np.pi,10)\n",
        "\n",
        "y1=np.sin(x)\n",
        "y2=np.sin(x)+np.cos(x)\n",
        "\n",
        "plt.plot(x,y1,'ro-.',x,y2,'ks:')\n",
        "\n",
        "plt.xticks([0,np.pi,2*np.pi])\n",
        "plt.yticks([-1,0,+1])\n",
        "\n",
        "plt.xlabel('x-axis')\n",
        "plt.ylabel('y-axis')\n",
        "plt.title('Two functions')\n",
        "plt.legend(['sin(x)','sin(x)+cos(x)'])\n",
        "plt.show()"
      ],
      "metadata": {
        "colab": {
          "base_uri": "https://localhost:8080/",
          "height": 295
        },
        "id": "ZuLpm-ERqlzV",
        "outputId": "2f8847ec-550f-474c-cd60-35ba56ef5f96"
      },
      "execution_count": null,
      "outputs": [
        {
          "output_type": "display_data",
          "data": {
            "text/plain": [
              "<Figure size 432x288 with 1 Axes>"
            ],
            "image/png": "[encoded data removed]"
          },
          "metadata": {
            "needs_background": "light"
          }
        }
      ]
    },
    {
      "cell_type": "code",
      "source": [
        "x=np.linspace(1,6,6)\n",
        "y=np.array([10,8,4,9,5,2])\n",
        "\n",
        "plt.bar(x,y)\n",
        "plt.xlabel('x-axis')\n",
        "plt.ylabel('y-axis')\n",
        "plt.title('Bar Example')\n",
        "plt.show()"
      ],
      "metadata": {
        "colab": {
          "base_uri": "https://localhost:8080/",
          "height": 295
        },
        "id": "_MCYsNBfrQxr",
        "outputId": "da748480-de38-453f-82d9-e7644470589a"
      },
      "execution_count": null,
      "outputs": [
        {
          "output_type": "display_data",
          "data": {
            "text/plain": [
              "<Figure size 432x288 with 1 Axes>"
            ],
            "image/png": "[encoded data removed]"
          },
          "metadata": {
            "needs_background": "light"
          }
        }
      ]
    },
    {
      "cell_type": "code",
      "source": [
        "★3강★"
      ],
      "metadata": {
        "id": "Jhqs7QiPscUD"
      },
      "execution_count": null,
      "outputs": []
    },
    {
      "cell_type": "code",
      "source": [
        "def func(n):\n",
        "  lv=n+1\n",
        "  print(lv)"
      ],
      "metadata": {
        "id": "4j3YVVFm_bW_"
      },
      "execution_count": null,
      "outputs": []
    },
    {
      "cell_type": "code",
      "source": [
        "func(12)"
      ],
      "metadata": {
        "id": "I9Ynoc6R_nXi",
        "outputId": "ffc279eb-0a27-4220-c7ba-69da2c27e061",
        "colab": {
          "base_uri": "https://localhost:8080/"
        }
      },
      "execution_count": null,
      "outputs": [
        {
          "output_type": "stream",
          "name": "stdout",
          "text": [
            "13\n"
          ]
        }
      ]
    },
    {
      "cell_type": "code",
      "source": [
        "n=10\n",
        "def func2():\n",
        "    lv=n+1\n",
        "    print(lv)"
      ],
      "metadata": {
        "id": "1EIbECTzWCzP"
      },
      "execution_count": null,
      "outputs": []
    },
    {
      "cell_type": "code",
      "source": [
        "func2()"
      ],
      "metadata": {
        "id": "lFxoKQofWc3W",
        "outputId": "ee5cce3b-a9c7-4704-f180-6f3786cd2279",
        "colab": {
          "base_uri": "https://localhost:8080/"
        }
      },
      "execution_count": null,
      "outputs": [
        {
          "output_type": "stream",
          "name": "stdout",
          "text": [
            "11\n"
          ]
        }
      ]
    },
    {
      "cell_type": "code",
      "source": [
        "n=10\n",
        "def func2():\n",
        "    n=0\n",
        "    lv=n+1\n",
        "    print(lv)\n",
        "func2()"
      ],
      "metadata": {
        "id": "tTVpxHwXWlFA",
        "outputId": "16c7898c-f36b-4e5e-d1cc-3d4111c383d1",
        "colab": {
          "base_uri": "https://localhost:8080/"
        }
      },
      "execution_count": null,
      "outputs": [
        {
          "output_type": "stream",
          "name": "stdout",
          "text": [
            "1\n"
          ]
        }
      ]
    },
    {
      "cell_type": "code",
      "source": [
        "print(n)"
      ],
      "metadata": {
        "id": "ZPaFj_5SW4Qe",
        "outputId": "ac1b6ca7-515a-4aee-daa9-3fa927cc82e9",
        "colab": {
          "base_uri": "https://localhost:8080/"
        }
      },
      "execution_count": null,
      "outputs": [
        {
          "output_type": "stream",
          "name": "stdout",
          "text": [
            "10\n"
          ]
        }
      ]
    },
    {
      "cell_type": "code",
      "source": [
        "n=10\n",
        "def func2():\n",
        "    global n\n",
        "    n=0\n",
        "    lv=n+1\n",
        "    print(lv)\n",
        "func2()"
      ],
      "metadata": {
        "id": "z1viNdKMW7Tc",
        "outputId": "86db1caa-59c6-492d-f6c3-df83a54df7c2",
        "colab": {
          "base_uri": "https://localhost:8080/"
        }
      },
      "execution_count": null,
      "outputs": [
        {
          "output_type": "stream",
          "name": "stdout",
          "text": [
            "1\n"
          ]
        }
      ]
    },
    {
      "cell_type": "code",
      "source": [
        "print(n)"
      ],
      "metadata": {
        "id": "9oGqe7RUXZfn",
        "outputId": "6e7815b6-787f-4f4e-b679-05ca1b6cf1cd",
        "colab": {
          "base_uri": "https://localhost:8080/"
        }
      },
      "execution_count": null,
      "outputs": [
        {
          "output_type": "stream",
          "name": "stdout",
          "text": [
            "0\n"
          ]
        }
      ]
    },
    {
      "cell_type": "code",
      "source": [
        "yu_age=24\n",
        "def up_yu_age():\n",
        "  global yu_age\n",
        "  yu_age +=1\n",
        "\n",
        "def get_yu_age():\n",
        "  return yu_age\n",
        "\n",
        "print('2022년')\n",
        "print('유한:',get_yu_age())\n",
        "print('2023년')\n",
        "up_yu_age()\n",
        "print('유한:',get_yu_age())"
      ],
      "metadata": {
        "id": "zptUK17bXa8U",
        "outputId": "8533e890-1c74-41c8-eaf1-062e0d2e9ee7",
        "colab": {
          "base_uri": "https://localhost:8080/"
        }
      },
      "execution_count": null,
      "outputs": [
        {
          "output_type": "stream",
          "name": "stdout",
          "text": [
            "2022년\n",
            "유한: 24\n",
            "2023년\n",
            "유한: 25\n"
          ]
        }
      ]
    },
    {
      "cell_type": "code",
      "source": [
        "age=23\n",
        "def up_age():\n",
        "  global age\n",
        "  age +=1\n",
        "\n",
        "def get_age():\n",
        "  return age\n",
        "\n",
        "print('2022년')\n",
        "print('로희:',get_age())\n",
        "print('2023년')\n",
        "up_age()\n",
        "print('로희:',get_age())"
      ],
      "metadata": {
        "id": "8Hy2D7etZCJS",
        "outputId": "aee5a7be-94a2-499d-ca7e-3036cb1b79d8",
        "colab": {
          "base_uri": "https://localhost:8080/"
        }
      },
      "execution_count": null,
      "outputs": [
        {
          "output_type": "stream",
          "name": "stdout",
          "text": [
            "2022년\n",
            "로희: 23\n",
            "2023년\n",
            "로희: 24\n"
          ]
        }
      ]
    },
    {
      "cell_type": "code",
      "source": [
        "class AgeInfo:\n",
        "  def up_age(self):\n",
        "      self.age +=1\n",
        "  def get_age(self):\n",
        "      return self.age"
      ],
      "metadata": {
        "id": "uZXCGogp_a8O"
      },
      "execution_count": null,
      "outputs": []
    },
    {
      "cell_type": "code",
      "source": [
        "yu=AgeInfo()\n",
        "yu.age=24\n",
        "\n",
        "print(\"나의 나이:\",yu.get_age())\n",
        "\n",
        "print(\"1년 뒤...\")\n",
        "yu.up_age()\n",
        "print(\"나의 나이:\",yu.get_age())"
      ],
      "metadata": {
        "id": "8BTaztTjA32y",
        "outputId": "bf0ffa4a-2269-40ac-f81a-875e106403fc",
        "colab": {
          "base_uri": "https://localhost:8080/"
        }
      },
      "execution_count": null,
      "outputs": [
        {
          "output_type": "stream",
          "name": "stdout",
          "text": [
            "나의 나이: 24\n",
            "1년 뒤...\n",
            "나의 나이: 25\n"
          ]
        }
      ]
    },
    {
      "cell_type": "code",
      "source": [
        "class AgeInfo:\n",
        "  def up_age(self):\n",
        "      self.age +=1\n",
        "  def get_age(self):\n",
        "      return self.age\n",
        "\n",
        "yu = AgeInfo()\n",
        "ro = AgeInfo()\n",
        "geon = AgeInfo()\n",
        "\n",
        "yu.age=24\n",
        "ro.age=23\n",
        "geon.age=24\n",
        "\n",
        "print(\"유한의 나이:\", yu.get_age())\n",
        "print(\"로희의 나이:\", ro.get_age())\n",
        "print(\"건우의 나이:\", geon.get_age())\n",
        "\n",
        "print(\"1년 뒤...\")\n",
        "yu.up_age()\n",
        "ro.up_age()\n",
        "geon.up_age()\n",
        "print(\"유한의 나이:\",yu.get_age())\n",
        "print(\"로희의 나이:\",ro.get_age())\n",
        "print(\"건우의 나이:\",geon.get_age())"
      ],
      "metadata": {
        "id": "AHvyewCCBjY4",
        "outputId": "2ece3f0c-df07-408f-8318-db919d4bcea6",
        "colab": {
          "base_uri": "https://localhost:8080/"
        }
      },
      "execution_count": null,
      "outputs": [
        {
          "output_type": "stream",
          "name": "stdout",
          "text": [
            "유한의 나이: 24\n",
            "로희의 나이: 23\n",
            "건우의 나이: 24\n",
            "1년 뒤...\n",
            "유한의 나이: 25\n",
            "로희의 나이: 24\n",
            "건우의 나이: 25\n"
          ]
        }
      ]
    },
    {
      "cell_type": "code",
      "source": [
        "import math\n",
        "import matplotlib.pyplot as plt\n",
        "class sin_graph:\n",
        "  def generate_x_y(self):\n",
        "      self.x=[]\n",
        "      self.y=[]\n",
        "      self.dx=(self.end-self.st)/(self.n-1)\n",
        "      for i in range(self.n):\n",
        "         x_=self.st + self.dx*i\n",
        "         self.x.append(x_)\n",
        "         self.y.append(math.sin(x_))\n",
        "  def plot(self):\n",
        "    plt.plot(self.x,self.y)\n",
        "    plt.show()"
      ],
      "metadata": {
        "id": "ao_XLhnLJN_y"
      },
      "execution_count": null,
      "outputs": []
    },
    {
      "cell_type": "code",
      "source": [
        "g1=sin_graph()\n",
        "g1.st=0\n",
        "g1.end=2*math.pi\n",
        "g1.n=10\n",
        "\n",
        "g1.generate_x_y()\n",
        "g1.plot()"
      ],
      "metadata": {
        "id": "uK-mGsHxPZ3y",
        "outputId": "b456cda9-5279-4f6a-9f6f-e48969bcfb6c",
        "colab": {
          "base_uri": "https://localhost:8080/",
          "height": 265
        }
      },
      "execution_count": null,
      "outputs": [
        {
          "output_type": "display_data",
          "data": {
            "text/plain": [
              "<Figure size 432x288 with 1 Axes>"
            ],
            "image/png": "[encoded data removed]"
          },
          "metadata": {
            "needs_background": "light"
          }
        }
      ]
    },
    {
      "cell_type": "code",
      "source": [
        "class sin_graph:\n",
        "   def setting(self, st, ed, n):\n",
        "     self.st=st\n",
        "     self.ed=ed\n",
        "     self.n=n\n",
        "   def generate_x_y(self):\n",
        "    self.x=[]\n",
        "    self.y=[]\n",
        "    self.dx=(self.ed-self.st)/(self.n-1)\n",
        "    for i in range(self.n):\n",
        "      x_=self.st + self.dx*i\n",
        "      self.x.append(x_)\n",
        "      self.y.append(math.sin(x_))\n",
        "   def plot(self):\n",
        "    plt.plot(self.x,self.y)\n",
        "    plt.show()\n",
        "\n",
        "g1=sin_graph()\n",
        "g1.setting(0, 2*math.pi, 100)\n",
        "g1.generate_x_y()\n",
        "g1.plot()"
      ],
      "metadata": {
        "id": "jYfkl5_2P3WY",
        "outputId": "4c5fb4ba-6a73-40ee-8584-f88fccb66a02",
        "colab": {
          "base_uri": "https://localhost:8080/",
          "height": 265
        }
      },
      "execution_count": null,
      "outputs": [
        {
          "output_type": "display_data",
          "data": {
            "text/plain": [
              "<Figure size 432x288 with 1 Axes>"
            ],
            "image/png": "[encoded data removed]"
          },
          "metadata": {
            "needs_background": "light"
          }
        }
      ]
    },
    {
      "cell_type": "code",
      "source": [
        "g2=sin_graph()\n",
        "g2.setting(0, 4*math.pi, 100)\n",
        "g2.generate_x_y()\n",
        "g2.plot()"
      ],
      "metadata": {
        "id": "NZamxNaxTOJK",
        "outputId": "a51abcd7-5ae9-474d-a335-d0ef246571ef",
        "colab": {
          "base_uri": "https://localhost:8080/",
          "height": 265
        }
      },
      "execution_count": null,
      "outputs": [
        {
          "output_type": "display_data",
          "data": {
            "text/plain": [
              "<Figure size 432x288 with 1 Axes>"
            ],
            "image/png": "[encoded data removed]"
          },
          "metadata": {
            "needs_background": "light"
          }
        }
      ]
    },
    {
      "cell_type": "code",
      "source": [
        "class cos_graph:\n",
        "   def setting(self, st, ed, n):\n",
        "     self.st=st\n",
        "     self.ed=ed\n",
        "     self.n=n\n",
        "   def generate_x_y(self):\n",
        "    self.x=[]\n",
        "    self.y=[]\n",
        "    self.dx=(self.ed-self.st)/(self.n-1)\n",
        "    for i in range(self.n):\n",
        "      x_=self.st + self.dx*i\n",
        "      self.x.append(x_)\n",
        "      self.y.append(math.cos(x_))\n",
        "   def plot(self):\n",
        "    plt.plot(self.x,self.y)\n",
        "    plt.show()"
      ],
      "metadata": {
        "id": "xWIcr6dustFB"
      },
      "execution_count": 74,
      "outputs": []
    },
    {
      "cell_type": "code",
      "source": [
        "g1=cos_graph()\n",
        "g1.setting(0, 2*math.pi, 100)\n",
        "g1.generate_x_y()\n",
        "g1.plot()"
      ],
      "metadata": {
        "id": "-M7rXwaxso42",
        "outputId": "f4648278-aec5-4ca9-dcdd-f8cec464c35d",
        "colab": {
          "base_uri": "https://localhost:8080/",
          "height": 265
        }
      },
      "execution_count": 75,
      "outputs": [
        {
          "output_type": "display_data",
          "data": {
            "text/plain": [
              "<Figure size 432x288 with 1 Axes>"
            ],
            "image/png": "[encoded data removed]"
          },
          "metadata": {
            "needs_background": "light"
          }
        }
      ]
    },
    {
      "cell_type": "code",
      "source": [
        "g2=cos_graph()\n",
        "g2.setting(0, 4*math.pi, 100)\n",
        "g2.generate_x_y()\n",
        "g2.plot()"
      ],
      "metadata": {
        "id": "wePqLwoss5rF",
        "outputId": "d11669a9-4270-4db1-f6de-82624d4e8b15",
        "colab": {
          "base_uri": "https://localhost:8080/",
          "height": 265
        }
      },
      "execution_count": 76,
      "outputs": [
        {
          "output_type": "display_data",
          "data": {
            "text/plain": [
              "<Figure size 432x288 with 1 Axes>"
            ],
            "image/png": "[encoded data removed]"
          },
          "metadata": {
            "needs_background": "light"
          }
        }
      ]
    },
    {
      "cell_type": "code",
      "source": [
        "class Const:\n",
        "  def __init__(self):\n",
        "    print(\"new~\")\n",
        "\n",
        "o1 = Const()\n",
        "o2 = Const()"
      ],
      "metadata": {
        "id": "LwDI4tHxUUue",
        "outputId": "c8e74616-8e32-4a11-c757-830998c2d0ca",
        "colab": {
          "base_uri": "https://localhost:8080/"
        }
      },
      "execution_count": null,
      "outputs": [
        {
          "output_type": "stream",
          "name": "stdout",
          "text": [
            "new~\n",
            "new~\n"
          ]
        }
      ]
    },
    {
      "cell_type": "code",
      "source": [
        "class Const:\n",
        "  def __init__(self,n1,n2):\n",
        "    self.n1= n1\n",
        "    self.n2= n2\n",
        "  def show_data(self):\n",
        "      print(self.n1, self.n2)\n",
        "\n",
        "o1=Const(1,2)\n",
        "o2=Const(3,4)"
      ],
      "metadata": {
        "id": "f-i5SRzBUpcC"
      },
      "execution_count": null,
      "outputs": []
    },
    {
      "cell_type": "code",
      "source": [
        "o1.show_data()\n",
        "o2.show_data()"
      ],
      "metadata": {
        "id": "whrpxpEtW659",
        "outputId": "e0334401-4856-4935-a297-e5f54ea7a168",
        "colab": {
          "base_uri": "https://localhost:8080/"
        }
      },
      "execution_count": null,
      "outputs": [
        {
          "output_type": "stream",
          "name": "stdout",
          "text": [
            "1 2\n",
            "3 4\n"
          ]
        }
      ]
    },
    {
      "cell_type": "code",
      "source": [
        "fn=\"I_have_a_dream.txt\"\n",
        "class text_static:\n",
        "  def processLine(self,line,wordCounts):\n",
        "    line=self.replacePunctuations(line)\n",
        "    words=line.split()\n",
        "    for word in words:\n",
        "      if word in wordCounts:\n",
        "        wordCounts[word]+=1\n",
        "      else:\n",
        "        wordCounts[word]=1\n",
        "\n",
        "  def replacePunctuations(self,line):\n",
        "    for ch in line:\n",
        "      if ch in \" \":\n",
        "        line=line.replace(ch,\" \")\n",
        "\n",
        "    return line\n",
        "\n",
        "  def wordCounts(self,filename):\n",
        "    f=open(\"I_have_a_dream.txt\",\"r\")\n",
        "    lines=f.readlines()\n",
        "    wordCounts={}\n",
        "    for line in lines:\n",
        "      self.processLine(line.lower(),wordCounts)\n",
        "    return wordCounts\n",
        "\n",
        "  def arrange_pairs(self,wordCounts):\n",
        "    pairs=list(wordCounts.items())\n",
        "    items=[[x,y] for(y,x) in pairs]\n",
        "    items.sort()\n",
        "    items={x:y for [y,x] in items}\n",
        "    return items"
      ],
      "metadata": {
        "id": "XiO7nzmrX6yp"
      },
      "execution_count": 87,
      "outputs": []
    },
    {
      "cell_type": "code",
      "source": [
        "T=text_static()"
      ],
      "metadata": {
        "id": "qZ0hmKwsaceE"
      },
      "execution_count": 88,
      "outputs": []
    },
    {
      "cell_type": "code",
      "source": [
        "fn=\"I_have_a_dream.txt\""
      ],
      "metadata": {
        "id": "50cdzr9zr0dN"
      },
      "execution_count": 89,
      "outputs": []
    },
    {
      "cell_type": "code",
      "source": [
        "wordCounts=T.wordCounts(fn)"
      ],
      "metadata": {
        "id": "5Gq31lIHrxOG"
      },
      "execution_count": 95,
      "outputs": []
    },
    {
      "cell_type": "code",
      "source": [
        "wordCounts"
      ],
      "metadata": {
        "id": "Fz8lUEAbw-pd",
        "outputId": "3720738f-941a-4f23-d1eb-ce64a9f95f73",
        "colab": {
          "base_uri": "https://localhost:8080/"
        }
      },
      "execution_count": 96,
      "outputs": [
        {
          "output_type": "execute_result",
          "data": {
            "text/plain": [
              "{'\"for': 1,\n",
              " '\"insufficient': 1,\n",
              " '\"justice': 1,\n",
              " '\"life,': 1,\n",
              " '\"unalienable': 1,\n",
              " '\"when': 1,\n",
              " '**we': 1,\n",
              " 'a': 22,\n",
              " 'again': 1,\n",
              " 'again,': 1,\n",
              " 'ago,': 1,\n",
              " 'ahead.': 1,\n",
              " 'all': 3,\n",
              " 'allow': 1,\n",
              " 'alone.': 1,\n",
              " 'also': 1,\n",
              " 'always': 1,\n",
              " 'am': 1,\n",
              " 'america': 4,\n",
              " 'american': 2,\n",
              " 'american,': 1,\n",
              " 'an': 3,\n",
              " 'and': 22,\n",
              " 'architects': 1,\n",
              " 'are': 6,\n",
              " 'as': 19,\n",
              " 'asking': 1,\n",
              " 'autumn': 1,\n",
              " 'awakening': 1,\n",
              " 'back': 1,\n",
              " 'back.': 1,\n",
              " 'bad': 1,\n",
              " 'bank': 1,\n",
              " 'bankrupt.': 1,\n",
              " 'basic': 1,\n",
              " 'be': 12,\n",
              " 'beacon': 1,\n",
              " 'been': 1,\n",
              " 'beginning.': 1,\n",
              " 'believe': 2,\n",
              " 'believes': 1,\n",
              " 'bitterness': 1,\n",
              " 'black': 1,\n",
              " 'blow': 1,\n",
              " 'bodies,': 1,\n",
              " 'bound': 1,\n",
              " 'bright': 1,\n",
              " 'brotherhood.': 1,\n",
              " 'brothers,': 1,\n",
              " 'brutality.': 1,\n",
              " 'business': 1,\n",
              " 'but': 4,\n",
              " 'by': 4,\n",
              " 'came': 2,\n",
              " 'can': 3,\n",
              " 'cannot': 6,\n",
              " 'capital': 1,\n",
              " 'captivity.': 1,\n",
              " 'cash': 2,\n",
              " 'chains': 1,\n",
              " 'check': 2,\n",
              " 'check,': 2,\n",
              " 'check.': 1,\n",
              " 'children': 1,\n",
              " 'children.': 1,\n",
              " 'cities.': 1,\n",
              " 'citizens': 1,\n",
              " 'citizenship': 1,\n",
              " 'civil': 1,\n",
              " 'color': 1,\n",
              " 'come': 7,\n",
              " 'community': 1,\n",
              " 'concerned.': 1,\n",
              " 'condition.': 1,\n",
              " 'conduct': 1,\n",
              " 'constitution': 1,\n",
              " 'content': 1,\n",
              " 'continue': 1,\n",
              " 'cooling': 1,\n",
              " 'corners': 1,\n",
              " 'creative': 1,\n",
              " 'crippled': 1,\n",
              " 'cup': 1,\n",
              " 'dark': 1,\n",
              " 'day': 1,\n",
              " 'daybreak': 1,\n",
              " 'declaration': 1,\n",
              " 'decree': 1,\n",
              " 'deeds.': 1,\n",
              " 'defaulted': 1,\n",
              " 'degenerate': 1,\n",
              " 'demand': 1,\n",
              " 'democracy.': 1,\n",
              " 'demonstration': 1,\n",
              " 'desolate': 1,\n",
              " 'destiny': 1,\n",
              " 'destiny.': 1,\n",
              " 'devotees': 1,\n",
              " 'dignity': 2,\n",
              " 'discipline.': 1,\n",
              " 'discontent': 1,\n",
              " 'discrimination.': 1,\n",
              " 'distrust': 1,\n",
              " 'down': 2,\n",
              " 'dramatize': 1,\n",
              " 'drinking': 1,\n",
              " 'drug': 1,\n",
              " 'emancipation': 1,\n",
              " 'emerges.': 1,\n",
              " 'end': 1,\n",
              " 'end,': 1,\n",
              " 'engage': 1,\n",
              " 'engulfed': 1,\n",
              " 'equality.': 1,\n",
              " 'every': 1,\n",
              " 'evidenced': 1,\n",
              " 'exile': 1,\n",
              " 'fall': 1,\n",
              " 'fatal': 1,\n",
              " 'fatigue': 1,\n",
              " 'fierce': 1,\n",
              " 'finds': 1,\n",
              " 'five': 1,\n",
              " 'flames': 1,\n",
              " 'for': 6,\n",
              " 'force': 1,\n",
              " 'force.': 1,\n",
              " 'forever': 1,\n",
              " 'foundations': 1,\n",
              " 'free.': 1,\n",
              " 'freedom': 5,\n",
              " 'freedom.': 1,\n",
              " 'from': 4,\n",
              " 'funds': 1,\n",
              " 'funds.\"': 1,\n",
              " 'gain': 1,\n",
              " 'gaining': 1,\n",
              " 'ghetto': 1,\n",
              " 'give': 1,\n",
              " 'given': 1,\n",
              " 'go': 1,\n",
              " \"god's\": 1,\n",
              " 'gradualism.': 1,\n",
              " 'granted': 1,\n",
              " 'great': 3,\n",
              " 'greatest': 1,\n",
              " 'guaranteed': 1,\n",
              " 'guilty': 1,\n",
              " 'had': 1,\n",
              " 'hallowed': 1,\n",
              " 'happiness.\"': 1,\n",
              " 'happy': 1,\n",
              " 'has': 5,\n",
              " 'hatred.': 1,\n",
              " 'have': 4,\n",
              " 'he': 1,\n",
              " 'heavy': 1,\n",
              " 'heights': 1,\n",
              " 'heir.': 1,\n",
              " 'her': 1,\n",
              " 'here': 2,\n",
              " 'high': 1,\n",
              " 'highways': 1,\n",
              " 'himself': 1,\n",
              " 'his': 2,\n",
              " 'history': 2,\n",
              " 'honoring': 1,\n",
              " 'hope': 2,\n",
              " 'horrors': 1,\n",
              " 'hotels': 1,\n",
              " 'hundred': 4,\n",
              " 'i': 2,\n",
              " 'if': 1,\n",
              " 'in': 16,\n",
              " 'independence,': 1,\n",
              " 'inextricably': 1,\n",
              " 'injustice': 1,\n",
              " 'injustice.': 1,\n",
              " 'insofar': 1,\n",
              " 'instead': 1,\n",
              " 'insufficient': 1,\n",
              " 'into': 2,\n",
              " 'invigorating': 1,\n",
              " 'is': 18,\n",
              " 'island': 1,\n",
              " 'it': 3,\n",
              " 'join': 1,\n",
              " 'joyous': 1,\n",
              " 'justice': 3,\n",
              " 'justice.': 2,\n",
              " 'justice:': 1,\n",
              " 'land.': 1,\n",
              " 'languished': 1,\n",
              " 'larger': 1,\n",
              " 'later,': 4,\n",
              " 'lead': 1,\n",
              " 'leads': 1,\n",
              " 'legitimate': 1,\n",
              " 'let': 1,\n",
              " 'liberty': 1,\n",
              " 'life': 1,\n",
              " 'lift': 1,\n",
              " 'light': 1,\n",
              " 'like': 2,\n",
              " 'lives': 1,\n",
              " 'lodging': 1,\n",
              " 'lonely': 1,\n",
              " 'long': 6,\n",
              " 'luxury': 1,\n",
              " 'magnificent': 1,\n",
              " 'majestic': 1,\n",
              " 'make': 3,\n",
              " 'manacles': 1,\n",
              " 'many': 1,\n",
              " 'march': 1,\n",
              " 'marked': 1,\n",
              " 'marvelous': 1,\n",
              " 'material': 1,\n",
              " 'meeting': 1,\n",
              " 'men': 1,\n",
              " 'men,': 2,\n",
              " 'midst': 1,\n",
              " 'mighty': 1,\n",
              " 'militancy': 1,\n",
              " 'millions': 1,\n",
              " 'mississippi': 1,\n",
              " 'mobility': 1,\n",
              " 'moment.': 1,\n",
              " 'momentous': 1,\n",
              " 'motels': 1,\n",
              " 'must': 7,\n",
              " 'my': 1,\n",
              " 'nation': 4,\n",
              " \"nation's\": 1,\n",
              " 'nation.': 2,\n",
              " 'needed': 1,\n",
              " 'negro': 12,\n",
              " \"negro's\": 2,\n",
              " 'neither': 1,\n",
              " 'never': 3,\n",
              " 'new': 2,\n",
              " 'night': 1,\n",
              " 'nineteen': 1,\n",
              " 'no': 1,\n",
              " 'no,': 2,\n",
              " 'nor': 1,\n",
              " 'not': 9,\n",
              " 'note': 2,\n",
              " 'note,': 1,\n",
              " 'nothing': 1,\n",
              " 'now': 5,\n",
              " 'now.': 1,\n",
              " 'obligation,': 1,\n",
              " 'obvious': 1,\n",
              " 'ocean': 1,\n",
              " 'of': 56,\n",
              " 'off': 2,\n",
              " 'on': 4,\n",
              " 'one': 4,\n",
              " 'one.': 1,\n",
              " 'only.\"**': 1,\n",
              " 'opportunity': 1,\n",
              " 'or': 1,\n",
              " 'our': 14,\n",
              " 'overlook': 1,\n",
              " 'own': 1,\n",
              " 'palace': 1,\n",
              " 'pass': 1,\n",
              " 'path': 1,\n",
              " 'people': 1,\n",
              " 'people,': 2,\n",
              " 'physical': 2,\n",
              " 'place,': 1,\n",
              " 'plane': 1,\n",
              " 'pledge': 1,\n",
              " 'police': 1,\n",
              " 'poverty': 1,\n",
              " 'presence': 1,\n",
              " 'process': 1,\n",
              " 'proclamation.': 1,\n",
              " 'promise': 1,\n",
              " 'promises': 1,\n",
              " 'promissory': 2,\n",
              " 'prosperity.': 1,\n",
              " 'protest': 1,\n",
              " 'pursuit': 1,\n",
              " 'quicksands': 1,\n",
              " 'racial': 2,\n",
              " 'real': 1,\n",
              " 'reality': 1,\n",
              " 'realize': 2,\n",
              " 'refuse': 2,\n",
              " 'remind': 1,\n",
              " 'republic': 1,\n",
              " 'rest': 1,\n",
              " 'returns': 1,\n",
              " 'revolt': 1,\n",
              " 'riches': 1,\n",
              " 'righteousness': 1,\n",
              " 'rightful': 1,\n",
              " 'rights\"': 1,\n",
              " 'rights,': 1,\n",
              " 'rights.': 1,\n",
              " 'rise': 2,\n",
              " 'robbed': 1,\n",
              " 'rock': 1,\n",
              " 'rolls': 1,\n",
              " 'rude': 1,\n",
              " 'sacred': 1,\n",
              " 'sadly': 1,\n",
              " 'satisfied': 6,\n",
              " 'satisfied,': 1,\n",
              " 'satisfied?\"': 1,\n",
              " 'satisfy': 1,\n",
              " 'say': 1,\n",
              " 'score': 1,\n",
              " 'seared': 1,\n",
              " 'security': 1,\n",
              " 'seek': 1,\n",
              " 'segregation': 2,\n",
              " 'self-hood': 1,\n",
              " 'sense': 1,\n",
              " 'shadow': 1,\n",
              " 'shake': 1,\n",
              " 'shall': 1,\n",
              " 'shameful': 1,\n",
              " 'signed': 1,\n",
              " 'signing': 1,\n",
              " 'signs': 1,\n",
              " 'sixty-three': 1,\n",
              " 'slaves': 1,\n",
              " 'smaller': 1,\n",
              " 'so': 1,\n",
              " 'so,': 1,\n",
              " 'society': 1,\n",
              " 'solid': 1,\n",
              " 'something': 1,\n",
              " 'soul': 1,\n",
              " 'spot': 1,\n",
              " 'stand': 2,\n",
              " 'stating:': 1,\n",
              " 'steam': 1,\n",
              " 'still': 3,\n",
              " 'stream.\"1': 1,\n",
              " 'stripped': 1,\n",
              " 'struggle': 1,\n",
              " 'summer': 1,\n",
              " 'sunlit': 1,\n",
              " 'sweltering': 1,\n",
              " 'symbolic': 1,\n",
              " 'take': 1,\n",
              " 'that': 10,\n",
              " 'the': 66,\n",
              " 'their': 6,\n",
              " 'there': 5,\n",
              " 'they': 2,\n",
              " 'thirst': 1,\n",
              " 'this': 9,\n",
              " 'those': 2,\n",
              " 'threshold': 1,\n",
              " 'tied': 1,\n",
              " 'time': 5,\n",
              " 'to': 35,\n",
              " 'today': 3,\n",
              " 'today,': 2,\n",
              " 'tranquility': 1,\n",
              " 'tranquilizing': 1,\n",
              " 'travel,': 1,\n",
              " 'turn': 1,\n",
              " 'unspeakable': 1,\n",
              " 'until': 4,\n",
              " 'up': 1,\n",
              " 'upon': 1,\n",
              " 'urgency': 2,\n",
              " 'us': 3,\n",
              " 'usual.': 1,\n",
              " 'valley': 1,\n",
              " 'vast': 1,\n",
              " 'vaults': 1,\n",
              " 'victim': 1,\n",
              " 'violence.': 1,\n",
              " 'vote': 1,\n",
              " 'vote.': 1,\n",
              " 'walk': 1,\n",
              " 'walk,': 1,\n",
              " 'warm': 1,\n",
              " 'was': 2,\n",
              " 'waters,': 1,\n",
              " 'we': 19,\n",
              " \"we've\": 3,\n",
              " 'well': 1,\n",
              " 'were': 1,\n",
              " 'what': 1,\n",
              " 'when': 1,\n",
              " 'which': 5,\n",
              " 'whirlwinds': 1,\n",
              " 'white': 3,\n",
              " 'whites': 1,\n",
              " 'who': 4,\n",
              " 'whose': 1,\n",
              " 'will': 9,\n",
              " 'with': 4,\n",
              " 'withering': 1,\n",
              " 'words': 1,\n",
              " 'would': 2,\n",
              " 'wrongful': 1,\n",
              " 'wrote': 1,\n",
              " 'years': 5,\n",
              " 'yes,': 1,\n",
              " 'york': 1,\n",
              " 'you': 2}"
            ]
          },
          "metadata": {},
          "execution_count": 96
        }
      ]
    },
    {
      "cell_type": "code",
      "source": [
        "wordCounts=T.arrange_pairs(wordCounts)"
      ],
      "metadata": {
        "id": "SR6Y5-wUteBo"
      },
      "execution_count": 97,
      "outputs": []
    },
    {
      "cell_type": "code",
      "source": [
        "wordCounts"
      ],
      "metadata": {
        "id": "GNpe76uKwmCp",
        "outputId": "ecb61852-9e3b-4a7e-8bec-86aa815462b6",
        "colab": {
          "base_uri": "https://localhost:8080/"
        }
      },
      "execution_count": 98,
      "outputs": [
        {
          "output_type": "execute_result",
          "data": {
            "text/plain": [
              "{'\"for': 1,\n",
              " '\"insufficient': 1,\n",
              " '\"justice': 1,\n",
              " '\"life,': 1,\n",
              " '\"unalienable': 1,\n",
              " '\"when': 1,\n",
              " '**we': 1,\n",
              " 'a': 22,\n",
              " 'again': 1,\n",
              " 'again,': 1,\n",
              " 'ago,': 1,\n",
              " 'ahead.': 1,\n",
              " 'all': 3,\n",
              " 'allow': 1,\n",
              " 'alone.': 1,\n",
              " 'also': 1,\n",
              " 'always': 1,\n",
              " 'am': 1,\n",
              " 'america': 4,\n",
              " 'american': 2,\n",
              " 'american,': 1,\n",
              " 'an': 3,\n",
              " 'and': 22,\n",
              " 'architects': 1,\n",
              " 'are': 6,\n",
              " 'as': 19,\n",
              " 'asking': 1,\n",
              " 'autumn': 1,\n",
              " 'awakening': 1,\n",
              " 'back': 1,\n",
              " 'back.': 1,\n",
              " 'bad': 1,\n",
              " 'bank': 1,\n",
              " 'bankrupt.': 1,\n",
              " 'basic': 1,\n",
              " 'be': 12,\n",
              " 'beacon': 1,\n",
              " 'been': 1,\n",
              " 'beginning.': 1,\n",
              " 'believe': 2,\n",
              " 'believes': 1,\n",
              " 'bitterness': 1,\n",
              " 'black': 1,\n",
              " 'blow': 1,\n",
              " 'bodies,': 1,\n",
              " 'bound': 1,\n",
              " 'bright': 1,\n",
              " 'brotherhood.': 1,\n",
              " 'brothers,': 1,\n",
              " 'brutality.': 1,\n",
              " 'business': 1,\n",
              " 'but': 4,\n",
              " 'by': 4,\n",
              " 'came': 2,\n",
              " 'can': 3,\n",
              " 'cannot': 6,\n",
              " 'capital': 1,\n",
              " 'captivity.': 1,\n",
              " 'cash': 2,\n",
              " 'chains': 1,\n",
              " 'check': 2,\n",
              " 'check,': 2,\n",
              " 'check.': 1,\n",
              " 'children': 1,\n",
              " 'children.': 1,\n",
              " 'cities.': 1,\n",
              " 'citizens': 1,\n",
              " 'citizenship': 1,\n",
              " 'civil': 1,\n",
              " 'color': 1,\n",
              " 'come': 7,\n",
              " 'community': 1,\n",
              " 'concerned.': 1,\n",
              " 'condition.': 1,\n",
              " 'conduct': 1,\n",
              " 'constitution': 1,\n",
              " 'content': 1,\n",
              " 'continue': 1,\n",
              " 'cooling': 1,\n",
              " 'corners': 1,\n",
              " 'creative': 1,\n",
              " 'crippled': 1,\n",
              " 'cup': 1,\n",
              " 'dark': 1,\n",
              " 'day': 1,\n",
              " 'daybreak': 1,\n",
              " 'declaration': 1,\n",
              " 'decree': 1,\n",
              " 'deeds.': 1,\n",
              " 'defaulted': 1,\n",
              " 'degenerate': 1,\n",
              " 'demand': 1,\n",
              " 'democracy.': 1,\n",
              " 'demonstration': 1,\n",
              " 'desolate': 1,\n",
              " 'destiny': 1,\n",
              " 'destiny.': 1,\n",
              " 'devotees': 1,\n",
              " 'dignity': 2,\n",
              " 'discipline.': 1,\n",
              " 'discontent': 1,\n",
              " 'discrimination.': 1,\n",
              " 'distrust': 1,\n",
              " 'down': 2,\n",
              " 'dramatize': 1,\n",
              " 'drinking': 1,\n",
              " 'drug': 1,\n",
              " 'emancipation': 1,\n",
              " 'emerges.': 1,\n",
              " 'end': 1,\n",
              " 'end,': 1,\n",
              " 'engage': 1,\n",
              " 'engulfed': 1,\n",
              " 'equality.': 1,\n",
              " 'every': 1,\n",
              " 'evidenced': 1,\n",
              " 'exile': 1,\n",
              " 'fall': 1,\n",
              " 'fatal': 1,\n",
              " 'fatigue': 1,\n",
              " 'fierce': 1,\n",
              " 'finds': 1,\n",
              " 'five': 1,\n",
              " 'flames': 1,\n",
              " 'for': 6,\n",
              " 'force': 1,\n",
              " 'force.': 1,\n",
              " 'forever': 1,\n",
              " 'foundations': 1,\n",
              " 'free.': 1,\n",
              " 'freedom': 5,\n",
              " 'freedom.': 1,\n",
              " 'from': 4,\n",
              " 'funds': 1,\n",
              " 'funds.\"': 1,\n",
              " 'gain': 1,\n",
              " 'gaining': 1,\n",
              " 'ghetto': 1,\n",
              " 'give': 1,\n",
              " 'given': 1,\n",
              " 'go': 1,\n",
              " \"god's\": 1,\n",
              " 'gradualism.': 1,\n",
              " 'granted': 1,\n",
              " 'great': 3,\n",
              " 'greatest': 1,\n",
              " 'guaranteed': 1,\n",
              " 'guilty': 1,\n",
              " 'had': 1,\n",
              " 'hallowed': 1,\n",
              " 'happiness.\"': 1,\n",
              " 'happy': 1,\n",
              " 'has': 5,\n",
              " 'hatred.': 1,\n",
              " 'have': 4,\n",
              " 'he': 1,\n",
              " 'heavy': 1,\n",
              " 'heights': 1,\n",
              " 'heir.': 1,\n",
              " 'her': 1,\n",
              " 'here': 2,\n",
              " 'high': 1,\n",
              " 'highways': 1,\n",
              " 'himself': 1,\n",
              " 'his': 2,\n",
              " 'history': 2,\n",
              " 'honoring': 1,\n",
              " 'hope': 2,\n",
              " 'horrors': 1,\n",
              " 'hotels': 1,\n",
              " 'hundred': 4,\n",
              " 'i': 2,\n",
              " 'if': 1,\n",
              " 'in': 16,\n",
              " 'independence,': 1,\n",
              " 'inextricably': 1,\n",
              " 'injustice': 1,\n",
              " 'injustice.': 1,\n",
              " 'insofar': 1,\n",
              " 'instead': 1,\n",
              " 'insufficient': 1,\n",
              " 'into': 2,\n",
              " 'invigorating': 1,\n",
              " 'is': 18,\n",
              " 'island': 1,\n",
              " 'it': 3,\n",
              " 'join': 1,\n",
              " 'joyous': 1,\n",
              " 'justice': 3,\n",
              " 'justice.': 2,\n",
              " 'justice:': 1,\n",
              " 'land.': 1,\n",
              " 'languished': 1,\n",
              " 'larger': 1,\n",
              " 'later,': 4,\n",
              " 'lead': 1,\n",
              " 'leads': 1,\n",
              " 'legitimate': 1,\n",
              " 'let': 1,\n",
              " 'liberty': 1,\n",
              " 'life': 1,\n",
              " 'lift': 1,\n",
              " 'light': 1,\n",
              " 'like': 2,\n",
              " 'lives': 1,\n",
              " 'lodging': 1,\n",
              " 'lonely': 1,\n",
              " 'long': 6,\n",
              " 'luxury': 1,\n",
              " 'magnificent': 1,\n",
              " 'majestic': 1,\n",
              " 'make': 3,\n",
              " 'manacles': 1,\n",
              " 'many': 1,\n",
              " 'march': 1,\n",
              " 'marked': 1,\n",
              " 'marvelous': 1,\n",
              " 'material': 1,\n",
              " 'meeting': 1,\n",
              " 'men': 1,\n",
              " 'men,': 2,\n",
              " 'midst': 1,\n",
              " 'mighty': 1,\n",
              " 'militancy': 1,\n",
              " 'millions': 1,\n",
              " 'mississippi': 1,\n",
              " 'mobility': 1,\n",
              " 'moment.': 1,\n",
              " 'momentous': 1,\n",
              " 'motels': 1,\n",
              " 'must': 7,\n",
              " 'my': 1,\n",
              " 'nation': 4,\n",
              " \"nation's\": 1,\n",
              " 'nation.': 2,\n",
              " 'needed': 1,\n",
              " 'negro': 12,\n",
              " \"negro's\": 2,\n",
              " 'neither': 1,\n",
              " 'never': 3,\n",
              " 'new': 2,\n",
              " 'night': 1,\n",
              " 'nineteen': 1,\n",
              " 'no': 1,\n",
              " 'no,': 2,\n",
              " 'nor': 1,\n",
              " 'not': 9,\n",
              " 'note': 2,\n",
              " 'note,': 1,\n",
              " 'nothing': 1,\n",
              " 'now': 5,\n",
              " 'now.': 1,\n",
              " 'obligation,': 1,\n",
              " 'obvious': 1,\n",
              " 'ocean': 1,\n",
              " 'of': 56,\n",
              " 'off': 2,\n",
              " 'on': 4,\n",
              " 'one': 4,\n",
              " 'one.': 1,\n",
              " 'only.\"**': 1,\n",
              " 'opportunity': 1,\n",
              " 'or': 1,\n",
              " 'our': 14,\n",
              " 'overlook': 1,\n",
              " 'own': 1,\n",
              " 'palace': 1,\n",
              " 'pass': 1,\n",
              " 'path': 1,\n",
              " 'people': 1,\n",
              " 'people,': 2,\n",
              " 'physical': 2,\n",
              " 'place,': 1,\n",
              " 'plane': 1,\n",
              " 'pledge': 1,\n",
              " 'police': 1,\n",
              " 'poverty': 1,\n",
              " 'presence': 1,\n",
              " 'process': 1,\n",
              " 'proclamation.': 1,\n",
              " 'promise': 1,\n",
              " 'promises': 1,\n",
              " 'promissory': 2,\n",
              " 'prosperity.': 1,\n",
              " 'protest': 1,\n",
              " 'pursuit': 1,\n",
              " 'quicksands': 1,\n",
              " 'racial': 2,\n",
              " 'real': 1,\n",
              " 'reality': 1,\n",
              " 'realize': 2,\n",
              " 'refuse': 2,\n",
              " 'remind': 1,\n",
              " 'republic': 1,\n",
              " 'rest': 1,\n",
              " 'returns': 1,\n",
              " 'revolt': 1,\n",
              " 'riches': 1,\n",
              " 'righteousness': 1,\n",
              " 'rightful': 1,\n",
              " 'rights\"': 1,\n",
              " 'rights,': 1,\n",
              " 'rights.': 1,\n",
              " 'rise': 2,\n",
              " 'robbed': 1,\n",
              " 'rock': 1,\n",
              " 'rolls': 1,\n",
              " 'rude': 1,\n",
              " 'sacred': 1,\n",
              " 'sadly': 1,\n",
              " 'satisfied': 6,\n",
              " 'satisfied,': 1,\n",
              " 'satisfied?\"': 1,\n",
              " 'satisfy': 1,\n",
              " 'say': 1,\n",
              " 'score': 1,\n",
              " 'seared': 1,\n",
              " 'security': 1,\n",
              " 'seek': 1,\n",
              " 'segregation': 2,\n",
              " 'self-hood': 1,\n",
              " 'sense': 1,\n",
              " 'shadow': 1,\n",
              " 'shake': 1,\n",
              " 'shall': 1,\n",
              " 'shameful': 1,\n",
              " 'signed': 1,\n",
              " 'signing': 1,\n",
              " 'signs': 1,\n",
              " 'sixty-three': 1,\n",
              " 'slaves': 1,\n",
              " 'smaller': 1,\n",
              " 'so': 1,\n",
              " 'so,': 1,\n",
              " 'society': 1,\n",
              " 'solid': 1,\n",
              " 'something': 1,\n",
              " 'soul': 1,\n",
              " 'spot': 1,\n",
              " 'stand': 2,\n",
              " 'stating:': 1,\n",
              " 'steam': 1,\n",
              " 'still': 3,\n",
              " 'stream.\"1': 1,\n",
              " 'stripped': 1,\n",
              " 'struggle': 1,\n",
              " 'summer': 1,\n",
              " 'sunlit': 1,\n",
              " 'sweltering': 1,\n",
              " 'symbolic': 1,\n",
              " 'take': 1,\n",
              " 'that': 10,\n",
              " 'the': 66,\n",
              " 'their': 6,\n",
              " 'there': 5,\n",
              " 'they': 2,\n",
              " 'thirst': 1,\n",
              " 'this': 9,\n",
              " 'those': 2,\n",
              " 'threshold': 1,\n",
              " 'tied': 1,\n",
              " 'time': 5,\n",
              " 'to': 35,\n",
              " 'today': 3,\n",
              " 'today,': 2,\n",
              " 'tranquility': 1,\n",
              " 'tranquilizing': 1,\n",
              " 'travel,': 1,\n",
              " 'turn': 1,\n",
              " 'unspeakable': 1,\n",
              " 'until': 4,\n",
              " 'up': 1,\n",
              " 'upon': 1,\n",
              " 'urgency': 2,\n",
              " 'us': 3,\n",
              " 'usual.': 1,\n",
              " 'valley': 1,\n",
              " 'vast': 1,\n",
              " 'vaults': 1,\n",
              " 'victim': 1,\n",
              " 'violence.': 1,\n",
              " 'vote': 1,\n",
              " 'vote.': 1,\n",
              " 'walk': 1,\n",
              " 'walk,': 1,\n",
              " 'warm': 1,\n",
              " 'was': 2,\n",
              " 'waters,': 1,\n",
              " 'we': 19,\n",
              " \"we've\": 3,\n",
              " 'well': 1,\n",
              " 'were': 1,\n",
              " 'what': 1,\n",
              " 'when': 1,\n",
              " 'which': 5,\n",
              " 'whirlwinds': 1,\n",
              " 'white': 3,\n",
              " 'whites': 1,\n",
              " 'who': 4,\n",
              " 'whose': 1,\n",
              " 'will': 9,\n",
              " 'with': 4,\n",
              " 'withering': 1,\n",
              " 'words': 1,\n",
              " 'would': 2,\n",
              " 'wrongful': 1,\n",
              " 'wrote': 1,\n",
              " 'years': 5,\n",
              " 'yes,': 1,\n",
              " 'york': 1,\n",
              " 'you': 2}"
            ]
          },
          "metadata": {},
          "execution_count": 98
        }
      ]
    },
    {
      "cell_type": "code",
      "source": [
        ""
      ],
      "metadata": {
        "id": "s4oybuz0xCLA"
      },
      "execution_count": null,
      "outputs": []
    }
  ]
}