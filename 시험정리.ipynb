{
  "nbformat": 4,
  "nbformat_minor": 0,
  "metadata": {
    "colab": {
      "name": "Untitled23.ipynb",
      "provenance": [],
      "authorship_tag": "ABX9TyOnjHHTrG5PcVtdR9LEnT1E",
      "include_colab_link": true
    },
    "kernelspec": {
      "name": "python3",
      "display_name": "Python 3"
    },
    "language_info": {
      "name": "python"
    }
  },
  "cells": [
    {
      "cell_type": "markdown",
      "metadata": {
        "id": "view-in-github",
        "colab_type": "text"
      },
      "source": [
        "<a href=\"https://colab.research.google.com/github/BangYuHan/knu_bdna_2022/blob/main/%EC%8B%9C%ED%97%98%EC%A0%95%EB%A6%AC.ipynb\" target=\"_parent\"><img src=\"https://colab.research.google.com/assets/colab-badge.svg\" alt=\"Open In Colab\"/></a>"
      ]
    },
    {
      "cell_type": "code",
      "source": [
        "#1주차 강의#"
      ],
      "metadata": {
        "id": "NQ90Mt97bgDR"
      },
      "execution_count": null,
      "outputs": []
    },
    {
      "cell_type": "code",
      "execution_count": 1,
      "metadata": {
        "colab": {
          "base_uri": "https://localhost:8080/"
        },
        "id": "xJu-L-8SS_Qa",
        "outputId": "e5505e97-cdf2-46a5-f071-b02f6af6cd41"
      },
      "outputs": [
        {
          "output_type": "stream",
          "name": "stdout",
          "text": [
            "13\n"
          ]
        }
      ],
      "source": [
        "a = 3\n",
        "b = 10\n",
        "c = a+b\n",
        "print(c)"
      ]
    },
    {
      "cell_type": "code",
      "source": [
        "a = 3\n",
        "b = 10.3\n",
        "c = a+b\n",
        "print(c)"
      ],
      "metadata": {
        "colab": {
          "base_uri": "https://localhost:8080/"
        },
        "id": "FJLBe03oTFkr",
        "outputId": "4ae8403c-93eb-4ea5-9a98-cf9504d494ed"
      },
      "execution_count": 2,
      "outputs": [
        {
          "output_type": "stream",
          "name": "stdout",
          "text": [
            "13.3\n"
          ]
        }
      ]
    },
    {
      "cell_type": "code",
      "source": [
        "#2주차 강의#"
      ],
      "metadata": {
        "id": "2-DJm3zDbkKo"
      },
      "execution_count": null,
      "outputs": []
    },
    {
      "cell_type": "code",
      "source": [
        "def greet2(name):\n",
        "  print('반갑습니다', name)\n",
        "  print(name, '님은 파이썬의 세계로 오셨습니다') #인자가 있는 함수"
      ],
      "metadata": {
        "id": "YKOCQJASTeiL"
      },
      "execution_count": 6,
      "outputs": []
    },
    {
      "cell_type": "code",
      "source": [
        "greet2('방유한')"
      ],
      "metadata": {
        "colab": {
          "base_uri": "https://localhost:8080/"
        },
        "id": "9eYTdzwOVGwt",
        "outputId": "3ce1ca58-7b9f-4332-cf44-8d45dfcb3748"
      },
      "execution_count": 7,
      "outputs": [
        {
          "output_type": "stream",
          "name": "stdout",
          "text": [
            "반갑습니다 방유한\n",
            "방유한 님은 파이썬의 세계로 오셨습니다\n"
          ]
        }
      ]
    },
    {
      "cell_type": "code",
      "source": [
        "def greet2(name):\n",
        "  print('반갑습니다', name)\n",
        "  print(name, '님은 파이썬의 세계로 오셨습니다') #인자가 있는 함수\n",
        "inputName = '방유한'\n",
        "greet2(inputName)"
      ],
      "metadata": {
        "colab": {
          "base_uri": "https://localhost:8080/"
        },
        "id": "vBMXyxk8WS6P",
        "outputId": "d2813b19-ff56-4d2e-f508-08f7dbad1e7f"
      },
      "execution_count": 8,
      "outputs": [
        {
          "output_type": "stream",
          "name": "stdout",
          "text": [
            "반갑습니다 방유한\n",
            "방유한 님은 파이썬의 세계로 오셨습니다\n"
          ]
        }
      ]
    },
    {
      "cell_type": "code",
      "source": [
        "def adder(num1, num2):\n",
        "  sum = num1+num2\n",
        "  print('덧셈 결과:', num1 + num2) #인자가 있는 함수"
      ],
      "metadata": {
        "id": "nY7cPLX-Wr03"
      },
      "execution_count": 9,
      "outputs": []
    },
    {
      "cell_type": "code",
      "source": [
        "adder(10,5)"
      ],
      "metadata": {
        "colab": {
          "base_uri": "https://localhost:8080/"
        },
        "id": "5A6tKEFKXjVB",
        "outputId": "14d72250-d890-4d28-8db1-eb7da9593078"
      },
      "execution_count": 10,
      "outputs": [
        {
          "output_type": "stream",
          "name": "stdout",
          "text": [
            "덧셈 결과: 15\n"
          ]
        }
      ]
    },
    {
      "cell_type": "code",
      "source": [
        "def adder(num1, num2):\n",
        "  sum = num1+num2\n",
        "  return sum\n",
        "result = adder(10,5)\n",
        "print(sum)  #값의 반환이 있는 함수"
      ],
      "metadata": {
        "colab": {
          "base_uri": "https://localhost:8080/"
        },
        "id": "fwgtt5lXXlS1",
        "outputId": "8c50fe64-27d3-4c5c-a2dd-a42f63a415af"
      },
      "execution_count": 15,
      "outputs": [
        {
          "output_type": "stream",
          "name": "stdout",
          "text": [
            "<built-in function sum>\n"
          ]
        }
      ]
    },
    {
      "cell_type": "code",
      "source": [
        "def adder(num1, num2):\n",
        "  sum=num1+num2\n",
        "  return sum\n",
        "def main():\n",
        "  print(adder(5,3))\n",
        "main()  # main 함수를 정의하고 호출하는 방식으로 코드작성가능"
      ],
      "metadata": {
        "colab": {
          "base_uri": "https://localhost:8080/"
        },
        "id": "YlnuU2zuYkjU",
        "outputId": "ffb0cfaf-f552-4152-dab9-2ed0d5d1df2d"
      },
      "execution_count": 16,
      "outputs": [
        {
          "output_type": "stream",
          "name": "stdout",
          "text": [
            "8\n"
          ]
        }
      ]
    },
    {
      "cell_type": "code",
      "source": [
        "max(5,7,10) #최댓값 반환"
      ],
      "metadata": {
        "colab": {
          "base_uri": "https://localhost:8080/"
        },
        "id": "L3l23HVxZG0k",
        "outputId": "8d70a636-101d-428e-fba7-c54e12991f19"
      },
      "execution_count": 19,
      "outputs": [
        {
          "output_type": "execute_result",
          "data": {
            "text/plain": [
              "10"
            ]
          },
          "metadata": {},
          "execution_count": 19
        }
      ]
    },
    {
      "cell_type": "code",
      "source": [
        "min(3,6,2) #최솟값 반환"
      ],
      "metadata": {
        "colab": {
          "base_uri": "https://localhost:8080/"
        },
        "id": "f-R8Pyu5Zsf2",
        "outputId": "c5b79dfc-1120-4a01-deff-417b6f1e1311"
      },
      "execution_count": 20,
      "outputs": [
        {
          "output_type": "execute_result",
          "data": {
            "text/plain": [
              "2"
            ]
          },
          "metadata": {},
          "execution_count": 20
        }
      ]
    },
    {
      "cell_type": "code",
      "source": [
        "round(177.6) #가장 가까운 정수 근사"
      ],
      "metadata": {
        "colab": {
          "base_uri": "https://localhost:8080/"
        },
        "id": "nqQyQ2KAZ1Zl",
        "outputId": "b60ecb6e-ad12-47e7-8348-455da95c212c"
      },
      "execution_count": 21,
      "outputs": [
        {
          "output_type": "execute_result",
          "data": {
            "text/plain": [
              "178"
            ]
          },
          "metadata": {},
          "execution_count": 21
        }
      ]
    },
    {
      "cell_type": "code",
      "source": [
        "abs(-5) # 절댓값 반환"
      ],
      "metadata": {
        "colab": {
          "base_uri": "https://localhost:8080/"
        },
        "id": "LUaYLMyqZ240",
        "outputId": "abd433c1-eb57-4d44-dfa5-92986be726be"
      },
      "execution_count": 22,
      "outputs": [
        {
          "output_type": "execute_result",
          "data": {
            "text/plain": [
              "5"
            ]
          },
          "metadata": {},
          "execution_count": 22
        }
      ]
    },
    {
      "cell_type": "code",
      "source": [
        "pow(5,5) #5.0의 5 제곱"
      ],
      "metadata": {
        "colab": {
          "base_uri": "https://localhost:8080/"
        },
        "id": "C3VYE5S5Z4j3",
        "outputId": "8e85597b-e9ba-4d44-8463-2a2dfedc3386"
      },
      "execution_count": 23,
      "outputs": [
        {
          "output_type": "execute_result",
          "data": {
            "text/plain": [
              "3125"
            ]
          },
          "metadata": {},
          "execution_count": 23
        }
      ]
    },
    {
      "cell_type": "code",
      "source": [
        "10%3 # 몫과 나머지"
      ],
      "metadata": {
        "colab": {
          "base_uri": "https://localhost:8080/"
        },
        "id": "pJ2w9eORZ5XL",
        "outputId": "3d076269-04bb-48a8-a3a2-ce7e17f3db34"
      },
      "execution_count": 24,
      "outputs": [
        {
          "output_type": "execute_result",
          "data": {
            "text/plain": [
              "1"
            ]
          },
          "metadata": {},
          "execution_count": 24
        }
      ]
    },
    {
      "cell_type": "code",
      "source": [
        "result=eval(input(\"뭐든 넣어요:\")) #Eval 함수의 활용"
      ],
      "metadata": {
        "colab": {
          "base_uri": "https://localhost:8080/"
        },
        "id": "3YasNGgQaO2x",
        "outputId": "ccf2a07c-b33d-4d3a-cdeb-235314e0e549"
      },
      "execution_count": 25,
      "outputs": [
        {
          "name": "stdout",
          "output_type": "stream",
          "text": [
            "뭐든 넣어요:2-4*5+3\n"
          ]
        }
      ]
    },
    {
      "cell_type": "code",
      "source": [
        "result #Eval에 사칙 연산 포함한 식 넣기"
      ],
      "metadata": {
        "colab": {
          "base_uri": "https://localhost:8080/"
        },
        "id": "lfPNeMJ_aas4",
        "outputId": "bc085c05-b7a0-45b2-ae42-43c96af25d8a"
      },
      "execution_count": 26,
      "outputs": [
        {
          "output_type": "execute_result",
          "data": {
            "text/plain": [
              "-15"
            ]
          },
          "metadata": {},
          "execution_count": 26
        }
      ]
    },
    {
      "cell_type": "code",
      "source": [
        "def ret():\n",
        "  return 27\n",
        "result= eval(input(\"뭐든 넣어요:\")) # eval 함수는 숫자든 뭐든 다 실행 "
      ],
      "metadata": {
        "colab": {
          "base_uri": "https://localhost:8080/"
        },
        "id": "PXNtTyqdagfE",
        "outputId": "f2a49757-f2f1-4a58-bbba-670215d4c036"
      },
      "execution_count": 27,
      "outputs": [
        {
          "name": "stdout",
          "output_type": "stream",
          "text": [
            "뭐든 넣어요:ret()\n"
          ]
        }
      ]
    },
    {
      "cell_type": "code",
      "source": [
        "print(result) #보안성이 취약해 질수 있다."
      ],
      "metadata": {
        "colab": {
          "base_uri": "https://localhost:8080/"
        },
        "id": "ol2TsQ9ua7sw",
        "outputId": "10ba1b4f-efc8-49da-86a0-0ef413121626"
      },
      "execution_count": 28,
      "outputs": [
        {
          "output_type": "stream",
          "name": "stdout",
          "text": [
            "27\n"
          ]
        }
      ]
    },
    {
      "cell_type": "code",
      "source": [
        "#3주차 강의#"
      ],
      "metadata": {
        "id": "_69Md89_bnOX"
      },
      "execution_count": null,
      "outputs": []
    },
    {
      "cell_type": "code",
      "source": [
        "def greet_three_times():  #재귀적 호출 함수\n",
        "  print('HI')             \n",
        "  print('HI')\n",
        "  print('HI')\n",
        "greet_three_times()"
      ],
      "metadata": {
        "colab": {
          "base_uri": "https://localhost:8080/"
        },
        "id": "bL5PmIi4bAKO",
        "outputId": "668938df-8ce9-4470-d3eb-ee50c9b7376e"
      },
      "execution_count": 29,
      "outputs": [
        {
          "output_type": "stream",
          "name": "stdout",
          "text": [
            "HI\n",
            "HI\n",
            "HI\n"
          ]
        }
      ]
    },
    {
      "cell_type": "code",
      "source": [
        "def greet_10(num):  #if의 사용은 나중에 다시 다룰 것\n",
        "  if (num>0):\n",
        "    print('HI')\n",
        "    num=num-1\n",
        "    greet_10(num)\n",
        "greet_10(3)"
      ],
      "metadata": {
        "colab": {
          "base_uri": "https://localhost:8080/"
        },
        "id": "A8jpWAwQbvcL",
        "outputId": "197e2d19-aae6-41de-de88-c0bfd448b151"
      },
      "execution_count": 30,
      "outputs": [
        {
          "output_type": "stream",
          "name": "stdout",
          "text": [
            "HI\n",
            "HI\n",
            "HI\n"
          ]
        }
      ]
    },
    {
      "cell_type": "code",
      "source": [
        "sum=0\n",
        "for i in range(1,11): #For loop가 시작될 때 : 반드시 적기 \"1~10까지\"\n",
        "  sum=sum+i"
      ],
      "metadata": {
        "id": "SZKgZFFvhFZN"
      },
      "execution_count": 31,
      "outputs": []
    },
    {
      "cell_type": "code",
      "source": [
        "#Monte Carlo 시뮬레이션\n",
        "import random # Random 모듈을 불러옴\n",
        "NUMBER_OF_TRIALS=5000000 # 상수\n",
        "numberOfHits=0\n",
        "\n",
        "for i in range(NUMBER_OF_TRIALS):\n",
        "  x=random.random()*2-1 # 점을 random하게 찍음\n",
        "  y=random.random()*2-1\n",
        "  if x*x+y*y<=1: #원안에 점이 있는 수를 count 함\n",
        "    numberOfHits+=1\n",
        "\n",
        "pi=4*numberOfHits/NUMBER_OF_TRIALS\n",
        "\n",
        "print(\"PI는\",pi,\"입니다\")"
      ],
      "metadata": {
        "colab": {
          "base_uri": "https://localhost:8080/"
        },
        "id": "2vpylNXbmT8i",
        "outputId": "de503da4-6877-468d-fb0d-dfd8b3c9d28d"
      },
      "execution_count": 32,
      "outputs": [
        {
          "output_type": "stream",
          "name": "stdout",
          "text": [
            "PI는 3.1423624 입니다\n"
          ]
        }
      ]
    },
    {
      "cell_type": "code",
      "source": [
        "#while loop\n",
        "count=0 # while loop는 for loop와 비슷한 반복 명령 수행\n",
        "while count<5: # 차이는 for loop는 정해진 수 만큼 반복, while loop는 조건이 참인 동안 계속해서 수행\n",
        "  print(\"프로그래밍은 어렵습니다 !\")\n",
        "  count=count+1"
      ],
      "metadata": {
        "colab": {
          "base_uri": "https://localhost:8080/"
        },
        "id": "jgXmPPV2m6ap",
        "outputId": "8e025099-4291-4faf-9947-93fbc95a6c92"
      },
      "execution_count": 33,
      "outputs": [
        {
          "output_type": "stream",
          "name": "stdout",
          "text": [
            "프로그래밍은 어렵습니다 !\n",
            "프로그래밍은 어렵습니다 !\n",
            "프로그래밍은 어렵습니다 !\n",
            "프로그래밍은 어렵습니다 !\n",
            "프로그래밍은 어렵습니다 !\n"
          ]
        }
      ]
    },
    {
      "cell_type": "code",
      "source": [
        "import random\n",
        "NUMBER_OF_TRIALS=5000000\n",
        "numberOfHits=0\n",
        "i=0\n",
        "while (i<NUMBER_OF_TRIALS):\n",
        "  x=random.random()*2-1\n",
        "  y=random.random()*2-1\n",
        "  if x*x+y*y<=1:        #조건문이 참이면 if, if문의 조건이 맞지 않으면 else  \n",
        "    numberOfHits+=1\n",
        "  i=i+1"
      ],
      "metadata": {
        "id": "sjcL2epxoaH4"
      },
      "execution_count": 34,
      "outputs": []
    },
    {
      "cell_type": "code",
      "source": [
        "#비교 연산자\n",
        "#x < y x가 y보다 작다\n",
        "#x > y x가 y보다 크다\n",
        "#x == y x와 y가 같다\n",
        "#x != y x와 y가 같지 않다\n",
        "#x >= y x가 y보다 크거나 같다\n",
        "#x <= y x가 y보다 작거나 같다 "
      ],
      "metadata": {
        "id": "0QwLGRX_pTNr"
      },
      "execution_count": null,
      "outputs": []
    },
    {
      "cell_type": "code",
      "source": [
        "x=15\n",
        "y=13\n",
        "bool(x>y) # bool 연산자를 사용하여 조건문의 값을 알수 있다."
      ],
      "metadata": {
        "colab": {
          "base_uri": "https://localhost:8080/"
        },
        "id": "kTHziX6apzKX",
        "outputId": "6c2bb52c-e469-4a75-f402-25e351e5b107"
      },
      "execution_count": 35,
      "outputs": [
        {
          "output_type": "execute_result",
          "data": {
            "text/plain": [
              "True"
            ]
          },
          "metadata": {},
          "execution_count": 35
        }
      ]
    },
    {
      "cell_type": "code",
      "source": [
        "x=5\n",
        "y=7\n",
        "bool(x!=y)"
      ],
      "metadata": {
        "colab": {
          "base_uri": "https://localhost:8080/"
        },
        "id": "zejeWtIxp8MA",
        "outputId": "ecdaa45c-e5ea-4b21-d133-926076c37712"
      },
      "execution_count": 36,
      "outputs": [
        {
          "output_type": "execute_result",
          "data": {
            "text/plain": [
              "True"
            ]
          },
          "metadata": {},
          "execution_count": 36
        }
      ]
    },
    {
      "cell_type": "code",
      "source": [
        "bool(x==y)"
      ],
      "metadata": {
        "colab": {
          "base_uri": "https://localhost:8080/"
        },
        "id": "2eAnS8ImqD5K",
        "outputId": "2d0b9ca0-6088-428e-dff8-06ae2f765d36"
      },
      "execution_count": 37,
      "outputs": [
        {
          "output_type": "execute_result",
          "data": {
            "text/plain": [
              "False"
            ]
          },
          "metadata": {},
          "execution_count": 37
        }
      ]
    },
    {
      "cell_type": "code",
      "source": [
        "bool(x<=y)"
      ],
      "metadata": {
        "colab": {
          "base_uri": "https://localhost:8080/"
        },
        "id": "muMudYdBqGeX",
        "outputId": "7a5303db-4918-4592-a2c6-472358551914"
      },
      "execution_count": 38,
      "outputs": [
        {
          "output_type": "execute_result",
          "data": {
            "text/plain": [
              "True"
            ]
          },
          "metadata": {},
          "execution_count": 38
        }
      ]
    },
    {
      "cell_type": "code",
      "source": [
        "#x or y x와 y 둘중에 하나만 참이면 참이다\n",
        "#x and y x와 y 모두 참이어야 참이다\n",
        "#not x x가 거짓이면 참이다"
      ],
      "metadata": {
        "id": "nw0j6n20qIZ9"
      },
      "execution_count": null,
      "outputs": []
    },
    {
      "cell_type": "code",
      "source": [
        "money=2000 #조건문이 참이면 if, if문의 조건이 맞지 않으면 else \n",
        "if money>=3300:\n",
        "  print(\"택시 타고 가세요.\")\n",
        "else:\n",
        "    print(\"걸어가세요.\")"
      ],
      "metadata": {
        "colab": {
          "base_uri": "https://localhost:8080/"
        },
        "id": "q_gBueHaqf4u",
        "outputId": "0abdc456-a2b0-49b5-a070-010a42fb8f72"
      },
      "execution_count": 39,
      "outputs": [
        {
          "output_type": "stream",
          "name": "stdout",
          "text": [
            "걸어가세요.\n"
          ]
        }
      ]
    },
    {
      "cell_type": "code",
      "source": [
        "# Bool 변수들의 and or not 연산\n",
        "bool(True or True)"
      ],
      "metadata": {
        "colab": {
          "base_uri": "https://localhost:8080/"
        },
        "id": "d04bqFGPqmhZ",
        "outputId": "2bf18d68-488f-4682-9b1a-382d4130ad92"
      },
      "execution_count": 41,
      "outputs": [
        {
          "output_type": "execute_result",
          "data": {
            "text/plain": [
              "True"
            ]
          },
          "metadata": {},
          "execution_count": 41
        }
      ]
    },
    {
      "cell_type": "code",
      "source": [
        "bool(True or False)"
      ],
      "metadata": {
        "colab": {
          "base_uri": "https://localhost:8080/"
        },
        "id": "-x0aAAnIqy3t",
        "outputId": "14fb6343-f536-455c-de3b-b94ddb0167d1"
      },
      "execution_count": 42,
      "outputs": [
        {
          "output_type": "execute_result",
          "data": {
            "text/plain": [
              "True"
            ]
          },
          "metadata": {},
          "execution_count": 42
        }
      ]
    },
    {
      "cell_type": "code",
      "source": [
        "bool(False or False)"
      ],
      "metadata": {
        "colab": {
          "base_uri": "https://localhost:8080/"
        },
        "id": "-2fgRQ46q0jo",
        "outputId": "8906b05d-322d-41c8-f903-5f9ca373a84f"
      },
      "execution_count": 43,
      "outputs": [
        {
          "output_type": "execute_result",
          "data": {
            "text/plain": [
              "False"
            ]
          },
          "metadata": {},
          "execution_count": 43
        }
      ]
    },
    {
      "cell_type": "code",
      "source": [
        "bool(not True) # not은 부정을 의미 즉 False를 True로, True를 False로 바꿔줌"
      ],
      "metadata": {
        "colab": {
          "base_uri": "https://localhost:8080/"
        },
        "id": "T5M6V4tHq208",
        "outputId": "3e349245-aaa5-4c56-9335-6c05c4a437ee"
      },
      "execution_count": 44,
      "outputs": [
        {
          "output_type": "execute_result",
          "data": {
            "text/plain": [
              "False"
            ]
          },
          "metadata": {},
          "execution_count": 44
        }
      ]
    },
    {
      "cell_type": "code",
      "source": [
        "bool(not False)"
      ],
      "metadata": {
        "colab": {
          "base_uri": "https://localhost:8080/"
        },
        "id": "kxgdWamgq4P0",
        "outputId": "344ed740-6b31-4111-c81b-b3dc7da6314e"
      },
      "execution_count": 45,
      "outputs": [
        {
          "output_type": "execute_result",
          "data": {
            "text/plain": [
              "True"
            ]
          },
          "metadata": {},
          "execution_count": 45
        }
      ]
    },
    {
      "cell_type": "code",
      "source": [
        "bool(not(True or False))"
      ],
      "metadata": {
        "colab": {
          "base_uri": "https://localhost:8080/"
        },
        "id": "Cb0nFY4Uq6QJ",
        "outputId": "c22fcd7b-09a7-4d37-afca-084eab04cda6"
      },
      "execution_count": 46,
      "outputs": [
        {
          "output_type": "execute_result",
          "data": {
            "text/plain": [
              "False"
            ]
          },
          "metadata": {},
          "execution_count": 46
        }
      ]
    },
    {
      "cell_type": "code",
      "source": [
        "bool((not True)or False)"
      ],
      "metadata": {
        "colab": {
          "base_uri": "https://localhost:8080/"
        },
        "id": "mIU8Wd9Fq7tS",
        "outputId": "fdcc3f5b-12e2-4827-b9cb-98fb15f00958"
      },
      "execution_count": 47,
      "outputs": [
        {
          "output_type": "execute_result",
          "data": {
            "text/plain": [
              "False"
            ]
          },
          "metadata": {},
          "execution_count": 47
        }
      ]
    },
    {
      "cell_type": "code",
      "source": [
        "bool((not False)or False)"
      ],
      "metadata": {
        "colab": {
          "base_uri": "https://localhost:8080/"
        },
        "id": "dM41wOa6q9JT",
        "outputId": "ef383ec8-fca4-4857-fe9b-df8dee2c7e3b"
      },
      "execution_count": 48,
      "outputs": [
        {
          "output_type": "execute_result",
          "data": {
            "text/plain": [
              "True"
            ]
          },
          "metadata": {},
          "execution_count": 48
        }
      ]
    },
    {
      "cell_type": "code",
      "source": [
        "1 in(1,2,3)"
      ],
      "metadata": {
        "colab": {
          "base_uri": "https://localhost:8080/"
        },
        "id": "_fNi2FfWq-gz",
        "outputId": "a2c8fe44-e2c2-41a7-c110-1c9e68032205"
      },
      "execution_count": 49,
      "outputs": [
        {
          "output_type": "execute_result",
          "data": {
            "text/plain": [
              "True"
            ]
          },
          "metadata": {},
          "execution_count": 49
        }
      ]
    },
    {
      "cell_type": "code",
      "source": [
        "5 in(1,2,3)"
      ],
      "metadata": {
        "colab": {
          "base_uri": "https://localhost:8080/"
        },
        "id": "egi3HkZIrTkc",
        "outputId": "2229fc8d-f10a-4403-ab98-0ab448ff7eb8"
      },
      "execution_count": 50,
      "outputs": [
        {
          "output_type": "execute_result",
          "data": {
            "text/plain": [
              "False"
            ]
          },
          "metadata": {},
          "execution_count": 50
        }
      ]
    },
    {
      "cell_type": "code",
      "source": [
        "5 not in(1,2,3)"
      ],
      "metadata": {
        "colab": {
          "base_uri": "https://localhost:8080/"
        },
        "id": "jEpevCUWrVIo",
        "outputId": "d9528402-3c1d-47a5-995d-545104726ff8"
      },
      "execution_count": 51,
      "outputs": [
        {
          "output_type": "execute_result",
          "data": {
            "text/plain": [
              "True"
            ]
          },
          "metadata": {},
          "execution_count": 51
        }
      ]
    },
    {
      "cell_type": "code",
      "source": [
        "1 not in(1,2,3)"
      ],
      "metadata": {
        "colab": {
          "base_uri": "https://localhost:8080/"
        },
        "id": "4NLV9qvErWUC",
        "outputId": "073a454e-ad0f-41dd-9e3f-2dfb9e2349d8"
      },
      "execution_count": 52,
      "outputs": [
        {
          "output_type": "execute_result",
          "data": {
            "text/plain": [
              "False"
            ]
          },
          "metadata": {},
          "execution_count": 52
        }
      ]
    },
    {
      "cell_type": "code",
      "source": [
        "pocket=('paper','cellphone','money') #if 조건문이 참일 때 아무런 일도 하지 않도록 설정\n",
        "if'money'in pocket:                  #조건문이 참이면 if, if문의 조건이 맞지 않으면 else \n",
        "  print(\"택시를 타고 가세요.\")\n",
        "else:\n",
        "  print(\"걸어가세요.\")"
      ],
      "metadata": {
        "colab": {
          "base_uri": "https://localhost:8080/"
        },
        "id": "i37Rucj_rXnV",
        "outputId": "32e020be-67eb-41bc-866e-ec5fc9bb06f0"
      },
      "execution_count": 53,
      "outputs": [
        {
          "output_type": "stream",
          "name": "stdout",
          "text": [
            "택시를 타고 가세요.\n"
          ]
        }
      ]
    },
    {
      "cell_type": "code",
      "source": [
        "# 다양한 조건을 판단하기 위해 elif가 사용된다. else if = elif\n",
        "pocket=('paper','handphone')\n",
        "card=True\n",
        "if'money' in pocket:\n",
        "  print(\"택시 타고 가세요.\")\n",
        "else:\n",
        "    if card:\n",
        "      print(\"택시 타고 가세요\")\n",
        "    else:\n",
        "        print(\"걸어가세요.\")"
      ],
      "metadata": {
        "colab": {
          "base_uri": "https://localhost:8080/"
        },
        "id": "i4v67JImrrS2",
        "outputId": "43b8931e-df5f-4bf6-f289-8a8e8d1a3d02"
      },
      "execution_count": 54,
      "outputs": [
        {
          "output_type": "stream",
          "name": "stdout",
          "text": [
            "택시 타고 가세요\n"
          ]
        }
      ]
    },
    {
      "cell_type": "code",
      "source": [
        "# elif 사용하면 훨씬 더 쉽게 코드 구현 가능\n",
        "pocket=('paper','handphone')\n",
        "card=True\n",
        "if 'money'in pocket:\n",
        "  print(\"택시 타고 가세요.\")\n",
        "elif card:\n",
        "    print(\"택시 타고 가세요.\")\n",
        "else:\n",
        "  print(\"걸어가세요.\")"
      ],
      "metadata": {
        "colab": {
          "base_uri": "https://localhost:8080/"
        },
        "id": "Tbj9XEzosKwg",
        "outputId": "1d509222-d01b-4b37-8445-73ac10872b9d"
      },
      "execution_count": 56,
      "outputs": [
        {
          "output_type": "stream",
          "name": "stdout",
          "text": [
            "택시 타고 가세요.\n"
          ]
        }
      ]
    },
    {
      "cell_type": "code",
      "source": [
        "score=70\n",
        "if score>=60:\n",
        "  message=\"success\"\n",
        "else:\n",
        "    message=\"failure\"\n",
        "message=\"success\"if score>=60 else \"failure\""
      ],
      "metadata": {
        "id": "I7TM8n_gsddA"
      },
      "execution_count": 57,
      "outputs": []
    },
    {
      "cell_type": "code",
      "source": [
        "#4주차 강의#"
      ],
      "metadata": {
        "id": "Ee8CpSETs7tA"
      },
      "execution_count": null,
      "outputs": []
    }
  ]
}